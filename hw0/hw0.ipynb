{
 "cells": [
  {
   "cell_type": "markdown",
   "metadata": {},
   "source": [
    "## 10-714: Homework 0\n",
    "\n",
    "The goal of this homework is to give you a quick overview of some of the concepts and ideas that you should be familiar with _prior_ to taking this course.  The assignment will require you to build a basic softmax regression algorithm, plus a simple two-layer neural network.  You will create these implementations both in native Python (using the numpy library), and (for softmax regression) in native C/C++.  The homework will also walk you through the process of submitting your assignments to our autograding system.  Along the way, we'll give some guidance as to how you might want to implement these different functions, but overall the details are up to you.  What we will say, though, is that in the Python version you should make heavy use of the linear algebra calls in numpy: trying to use explicit loops will usually make the code much slower than it should be.\n",
    "\n",
    "**We know that there is a lot of prose text in this assignment, especially in the beginning, and relatively little coding.  That being said, _please_ read carefuly through the entirety of the text in this writeup.  Doing so will describe the process and philosophy behind how we structure our assignments, and will make a huge difference in your ability to complete later assignments.**\n",
    "\n",
    "All the code development for the homeworks in 10-714 can be done in the Google Colab environment.  However, instead of making extensive use of actual code blocks within a colab notebook, most of the code you develop will be done `.py` files downloaded (automatically) to your Google Drive, and you will largely use the notebook for running shell scripts that test and submit the code to the auto-grader (or optionally for testing out snippets of code as you develop, but this is not required).  This is a somewhat non-standard usage of Colab Notebooks (typically one uses them more like interactive coding environments, with code cells directly in the notebook).  However, our rationale for using them in the way that we do is actually straightforward: in addition to being a nice cloud-based notebook environment, Colab also provides very nice access to \"standard\" cloud-based GPU systems that you can spin up quickly, which will let you develop especially some of the later (CUDA-based) code without requiring you to get access to a physical GPU, or set up the CUDA libraries yourself.  That being said, **you are welcome to do the development and submission of your code in any environment you like**, we just can't guarantee the abiltiy to support any environment other than the Colab-based one.\n",
    "\n",
    "To get started, **make a copy of this notebook** file by selecting \"Save a copy in Drive\" from the \"File\" menu, and then run the code block below.  This will load your Google Drive folder into the Colab notebook environment, create a `/10714/hw0` directory, and clone the HW0 public repository into this directory."
   ]
  },
  {
   "cell_type": "code",
   "execution_count": null,
   "metadata": {},
   "outputs": [],
   "source": [
    "# Code to set up the assignment\n",
    "from google.colab import drive\n",
    "drive.mount('/content/drive')\n",
    "%cd /content/drive/MyDrive/\n",
    "!mkdir -p 10714\n",
    "%cd /content/drive/MyDrive/10714\n",
    "!git clone https://github.com/dlsyscourse/hw0.git\n",
    "%cd /content/drive/MyDrive/10714/hw0"
   ]
  },
  {
   "cell_type": "markdown",
   "metadata": {},
   "source": [
    "This next cell will then install the libraries required."
   ]
  },
  {
   "cell_type": "code",
   "execution_count": 7,
   "metadata": {},
   "outputs": [
    {
     "name": "stdout",
     "output_type": "stream",
     "text": [
      "Collecting git+https://github.com/dlsyscourse/mugrade.git\n",
      "  Cloning https://github.com/dlsyscourse/mugrade.git to c:\\users\\mawenjie\\appdata\\local\\temp\\pip-req-build-j6sw2eln\n",
      "  Resolved https://github.com/dlsyscourse/mugrade.git to commit 98609ee80ee24bf278455b48aa8d06bd3f5d0430\n",
      "  Preparing metadata (setup.py): started\n",
      "  Preparing metadata (setup.py): finished with status 'done'\n"
     ]
    },
    {
     "name": "stderr",
     "output_type": "stream",
     "text": [
      "  Running command git clone --filter=blob:none --quiet https://github.com/dlsyscourse/mugrade.git 'C:\\Users\\mawenjie\\AppData\\Local\\Temp\\pip-req-build-j6sw2eln'\n"
     ]
    },
    {
     "name": "stdout",
     "output_type": "stream",
     "text": [
      "Requirement already satisfied: pybind11 in d:\\anaconda\\envs\\mlc\\lib\\site-packages (2.10.4)\n"
     ]
    }
   ],
   "source": [
    "!pip install --upgrade --no-deps git+https://github.com/dlsyscourse/mugrade.git\n",
    "!pip install pybind11\n",
    "!pip install numdifftools"
   ]
  },
  {
   "cell_type": "markdown",
   "metadata": {},
   "source": [
    "## Question 1: A basic `add` function, and testing/autograding basics\n",
    "\n",
    "To illustrate the workflow of these assignments and the autograding system, we'll use a simple example of implementing an `add` function.  Note that the commands run above will create the following structure in your `10714/hw0` directory\n",
    "\n",
    "    data/\n",
    "        train-images-idx3-ubyte.gz\n",
    "        train-labels-idx1-ubyte.gz\n",
    "        t10k-images-idx3-ubyte.gz\n",
    "        t10k-labels-idx1-ubyte.gz\n",
    "    src/\n",
    "        simple_ml.py\n",
    "        simple_ml_ext.cpp\n",
    "    tests/\n",
    "        test_simple_ml.py\n",
    "    Makefile\n",
    "    \n",
    "The `data/` directory contains the data needed for this assignment (a copy of the MNIST data set); the `src/` directory contains the source files where you will write your implementations; the `tests/` directory contains tests that will evaluate (locally) your solution, and also submit them for autograding.  And the `Makefile` file is a makefile that will compile the code (relevant for the C++ portions of the assignment).\n",
    "\n",
    "The first homework question requires you to implement `simple_ml.add()` function (this trivial function is not used anywhere, it is just an example to get you used to the structure of the assignment).  Looking at the `src/simple_ml.py` file, you will find the following function stub for the `add()` function.\n",
    "\n",
    "```python\n",
    "def add(x, y):\n",
    "    \"\"\" A trivial 'add' function you should implement to get used to the \n",
    "    autograder and submission system.  The solution to this problem is in\n",
    "    the homework notebook.\n",
    "\n",
    "    Args:\n",
    "        x (Python number or numpy array)\n",
    "        y (Python number or numpy array)\n",
    "\n",
    "    Return:\n",
    "        Sum of x + y\n",
    "    \"\"\"\n",
    "    ### YOUR CODE HERE\n",
    "    pass\n",
    "    ### END YOUR CODE\n",
    "```\n",
    "The docstring in each file defines the expected input/output mapping that your function should produce (you need to get used to reading carefully, as the number one source of errors in submissions, we typically find,  is simply not reading the spec).  And hopefully it's pretty obvious to you how to implement this function.  You would just replace the `pass` statement with the correct code, namely the following:\n",
    "\n",
    "```python\n",
    "def add(x, y):\n",
    "    \"\"\" A trivial 'add' function you should implement to get used to the \n",
    "    autograder and submission system.  The solution to this problem is in the\n",
    "    the homework notebook.\n",
    "\n",
    "    Args:\n",
    "        x (Python number or numpy array)\n",
    "        y (Python number or numpy array)\n",
    "\n",
    "    Return:\n",
    "        Sum of x + y\n",
    "    \"\"\"\n",
    "    ### YOUR CODE HERE\n",
    "    return x + y\n",
    "    ### END YOUR CODE\n",
    "```\n",
    "Go ahead and do this in your `src/simple_ml.py` file."
   ]
  },
  {
   "cell_type": "markdown",
   "metadata": {},
   "source": [
    "### Running local tests\n",
    "\n",
    "Now you will want to test to see if your code works, and if so, to submit it to the autograding system.  Throughout this course, we are using standard tools for running unit tests on code, namely the `pytest` system.  Once you've written the correct code in the `src/simple_ml.py` file, run the following command below."
   ]
  },
  {
   "cell_type": "code",
   "execution_count": 1,
   "metadata": {},
   "outputs": [
    {
     "name": "stdout",
     "output_type": "stream",
     "text": [
      "============================= test session starts =============================\n",
      "platform win32 -- Python 3.8.16, pytest-7.3.1, pluggy-1.0.0\n",
      "rootdir: D:\\code\\work\\mlc\\hw0\n",
      "collected 6 items / 5 deselected / 1 selected\n",
      "\n",
      "tests\\test_simple_ml.py .                                                [100%]\n",
      "\n",
      "======================= 1 passed, 5 deselected in 0.73s =======================\n"
     ]
    }
   ],
   "source": [
    "!python -m pytest -k \"add\""
   ]
  },
  {
   "cell_type": "markdown",
   "metadata": {},
   "source": [
    "If all goes correctly, you will see that one tests is passed correctly.  To see how this test works, take a look at the `tests/test_simple_ml.py` file, specifically the `test_add()` function:\n",
    "\n",
    "```python\n",
    "def test_add():\n",
    "    assert add(5,6) == 11\n",
    "    assert add(3.2,1.0) == 4.2\n",
    "    assert type(add(4., 4)) == float\n",
    "    np.testing.assert_allclose(add(np.array([1,2]), np.array([3,4])),\n",
    "                               np.array([4,6]))\n",
    "```\n",
    "\n",
    "This code runs a suite of unit tests against your implemented function.  If the function is implemented correctly, then all the assertions above _should_ pass (i.e., the code will execute without errors).  If on the other hand, you implemented something incorrectly (say, changed the `x + y` above to `x - y`), then these assertions will fail, and `pytest` will indicate that the corresponding test failed."
   ]
  },
  {
   "cell_type": "code",
   "execution_count": 4,
   "metadata": {},
   "outputs": [],
   "source": [
    "# in this example cell, we replaced \"x + y\" with \"x - y\" in simple_ml.add()\n",
    "!python3 -m pytest -k \"add\""
   ]
  },
  {
   "cell_type": "markdown",
   "metadata": {},
   "source": [
    "As you can see, you will get an error that indicates the line where the assertion failed, which you can then use to go back and debug your implementation.  **You should get comfortabale with reading and tracing through the tests file as a way of better understanding how your implementations should work.**\n",
    "\n",
    "Learning to properly develop and use unit tests is crucial to modern software development, and hopefully a secondary outcome of this course is that you become familiar with the typical usage of unit tests within software development.  Of course, this isn't entirely true, because you don't necessarily need to _write_ your own tests to pass the questions here, but you _should_ become familiar with how to read the test files that we provide, as a way to understand how your function should behave.  However, we _absolutely_ would also encourage you to write additional tests for your implementations, especially if you find that your code is passing the local tests, but still seems to be failing on submission.\n",
    "\n",
    "One last quick comment.  If you're used to debugging code via print statements, note that **pytest will by default capture any output**. You can disable this behavior and have the tests display all output in all cases by passing the `-s` flag to pytest."
   ]
  },
  {
   "cell_type": "markdown",
   "metadata": {},
   "source": [
    "### Submitting to the autograder\n",
    "\n",
    "Now that you have passed the unit tests, it is time to submit your solution for autograding.  For autograding in this class we are using a custom application written by the course instructors.  To start the autograding progress, go to http://mugrade.dlsyscourse.org (or http://mugrade-online.dlsyscourse.org for the public online version of the course) and login in **using your course email** (for CMU students, this will be your andrew email, for online course students, this will be the email you used to sign up for the course).  We have created accounts for everyone under these emails in mugrade, but you will need to reset your password using the \"Forgot you password?\" link.\n",
    "\n",
    "Once you've created an account, in the left hand navigation bar, click on the \"Grader Key\" link, and copy the associated key (including the leading underscore if present).  This key is linked to _your submissions_ for the course, and anyone with the key could submit your assignments; therefore, you should not share this key with anyone, and just use it to submit your own code below.  Once you have this key, run the following command."
   ]
  },
  {
   "cell_type": "code",
   "execution_count": null,
   "metadata": {},
   "outputs": [],
   "source": [
    "!python3 -m mugrade submit YOUR_GRADER_KEY_HERE -k \"add\""
   ]
  },
  {
   "cell_type": "markdown",
   "metadata": {},
   "source": [
    "Running this command will submit your `add` function to the mugrade autograding system.  To see how this works internally, take a look at the `tests/test_simply_ml.py` file again, but this time the `submit_add()` function right below the `test_add` function.\n",
    "\n",
    "```python\n",
    "def submit_add():\n",
    "    mugrade.submit(add(1,2))\n",
    "    mugrade.submit(add(4.5, 3.2))\n",
    "    mugrade.submit(type(add(3,2)))\n",
    "    mugrade.submit(add(np.array([1.,2.]), np.array[5,6]))\n",
    "```\n",
    "\n",
    "This code looks a bit like a unit test above, but instead of assertions there are calls to `mugrade.submit()`.  These calls each evaluate the `add` function on different inputs, then send the result to the mugrade server.  The server compares the output of your function with the correct output (which is only stored on the server, not locally, so you cannot know in advance what the correct answer is), and updates your score for the assignment accordingly.  If you are logged into the mugrade system, you can go to the \"Homework 0\" assignment to see your updated grade (clicking \"Refresh\" as necessary if you are already viewing the page).\n",
    "\n",
    "**Important note:** For those of you familiar with autograding systems, you might notice that mugrade works a bit differently than most.  In most autograding systems you write your code to pass local tests (if you're lucky, some classes don't even provide these), then bundle up your code and submit it to the autograding system, which will unpack and execute your code on the autograding server, running it against some (unknown, for you) test cases.  Mugrade is different: the `submit_add` function is run on _your system_ (e.g., in the Colab environment you are running), and only the _results_ of the calls are sent to the server.\n",
    "\n",
    "The rationale for this setup is a subtle but important one.  This class requires you to develop a fairly complex system, which runs your code on specialized hardware like GPUs, on potentially long tests that train real neural network architectures.  Being unable to debug the execution of your code on the autograding test cases poses a substantial challenge in practice, not to mention issues of server capacity and slowdowns that occur usually right at the grading deadline.  Moving computation locally means that you have a lot more insight into how your code is actually running on the autograder test cases, which is extremely valuable for debugging.  By _far_ the most common post on forums for similar courses is \"my code passes all the local tests but fails on the autograder\"; and while this situation can _still_ happen in mugrade, you can at least step through the execution of your code to see _where_ and _how_ it fails.  And because the server only needs to perform simple checks of your input against the correct outputs, the server is very simple, and you will get the feedback from the autograder immediately, even right at the submission deadline.\n",
    "\n",
    "The _disadvantage_ of a grading system like this is that it's possible to cheat.  Because you have complete control over the local execution of your code on the autograding test cases, you could, in theory, just figure out what the correct answers should be, and return them without actually implementing the required code.  Later in this assignment, for instance, you're required to write a C++ implementation of softmax regression in addition to the initial Python one.  It would be completely possible to change the autograder to use your Python implementation, rather than the C++ one, and still pass the tests.  That being said, **please do not attempt to circumvent the autograding system in any way**.  Our goal for this system is to make it genuinely easier for your to debug and develop your code, and to make the experience more similar to the \"real\" development process, and less a matter of \"figuring out why the autograder doesn't compile your particular variant of CUDA code\".  To address this point, in addition to submitting the autograder tests, when you are finished with your submission you need to also upload a `.tar.gz` file of your `/src` directory in your solution to the mugrade system.  We trust that this will not be an issue, but if there _are_ any concerns, the TAs will always be able to validate that your code produces the results (they will also be running against standard plagiarism detection systems like MOSS).\n",
    "\n"
   ]
  },
  {
   "cell_type": "markdown",
   "metadata": {},
   "source": [
    "## Question 2: Loading MNIST data\n",
    "\n",
    "Now that you're familiar with the autograding system, try it out on the next function you need to implement in the `src/simple_ml.py` file: the `parse_mnist_data()` function.  Here is the function declaration from the file (we typically won't walk through this whole process again, but will do so here one more time).\n",
    "\n",
    "```python\n",
    "def parse_mnist(image_filename, label_filename):  \n",
    "    \"\"\" Read an images and labels file in MNIST format.  See this page:\n",
    "    http://yann.lecun.com/exdb/mnist/ for a description of the file format.\n",
    "\n",
    "    Args:\n",
    "        image_filename (str): name of gzipped images file in MNIST format\n",
    "        label_filename (str): name of gzipped labels file in MNIST format\n",
    "\n",
    "    Returns:\n",
    "        Tuple (X,y):\n",
    "            X (numpy.ndarray[np.float32]): 2D numpy array containing the loaded \n",
    "                data.  The dimensionality of the data should be \n",
    "                (num_examples x input_dim) where 'input_dim' is the full \n",
    "                dimension of the data, e.g., since MNIST images are 28x28, it \n",
    "                will be 784.  Values should be of type np.float32, and the data \n",
    "                should be normalized to have a minimum value of 0.0 and a \n",
    "                maximum value of 1.0. The normalization should be applied uniformly\n",
    "                across the whole dataset, _not_ individual images.\n",
    "\n",
    "            y (numpy.ndarray[dtype=np.uint8]): 1D numpy array containing the\n",
    "                labels of the examples.  Values should be of type np.uint8 and\n",
    "                for MNIST will contain the values 0-9.\n",
    "    \"\"\"\n",
    "    ### YOUR CODE HERE\n",
    "    pass\n",
    "    ### END YOUR CODE\n",
    "```\n",
    "\n",
    "Hopefully you're now familiar with how this docstring works, and have an idea about how to go about implementing this function.  First, go to http://yann.lecun.com/exdb/mnist/ or this alternate [link](https://web.archive.org/web/20220509025752/http://yann.lecun.com/exdb/mnist/) (the bottom of the page) to read about the binary format for the MNIST data.  Then write a loader that will read files of this type, and return numpy arrays according to the specification in the docstring (if you're having any issues with the implementation, be sure to read the docstring closely).  We'd recommend you use the `struct` module in python (along with the `gzip` module and of course `numpy` itself), in order to implement this function.\n",
    "\n",
    "When you've implemented the function run the local unit tests.\n"
   ]
  },
  {
   "cell_type": "code",
   "execution_count": 13,
   "metadata": {},
   "outputs": [
    {
     "name": "stdout",
     "output_type": "stream",
     "text": [
      "============================= test session starts =============================\n",
      "platform win32 -- Python 3.8.16, pytest-7.3.1, pluggy-1.0.0\n",
      "rootdir: d:\\code\\work\\mlc\\hw0\n",
      "collected 6 items / 5 deselected / 1 selected\n",
      "\n",
      "tests\\test_simple_ml.py .                                                [100%]\n",
      "\n",
      "======================= 1 passed, 5 deselected in 2.74s =======================\n"
     ]
    }
   ],
   "source": [
    "!python -m pytest -k \"parse_mnist\""
   ]
  },
  {
   "cell_type": "markdown",
   "metadata": {},
   "source": [
    "And then submit your code to mugrade."
   ]
  },
  {
   "cell_type": "code",
   "execution_count": null,
   "metadata": {},
   "outputs": [],
   "source": [
    "!python3 -m mugrade submit YOUR_GRADER_KEY_HERE -k \"parse_mnist\""
   ]
  },
  {
   "cell_type": "markdown",
   "metadata": {},
   "source": [
    "## Question 3: Softmax loss\n",
    "\n",
    "Implement the softmax (a.k.a. cross-entropy) loss as defined in `softmax_loss()` function in `src/simple_ml.py`.  Recall (hopefully this is review, but we'll also cover it in lecture on 9/1), that for a multi-class output that can take on values $y \\in \\{1,\\ldots,k\\}$, the softmax loss takes as input a vector of logits $z \\in \\mathbb{R}^k$, the true class $y \\in \\{1,\\ldots,k\\}$ returns a loss defined by\n",
    "\\begin{equation}\n",
    "\\ell_{\\mathrm{softmax}}(z, y) = \\log\\sum_{i=1}^k \\exp z_i - z_y.\n",
    "\\end{equation}\n",
    "\n",
    "Note that as described in its docstring, `softmax_loss()` takes a _2D array_ of logits (i.e., the $k$ dimensional logits for a batch of different samples), plus a corresponding 1D array of true labels, and should output the _average_ softmax loss over the entire batch.  Note that to do this correctly, you should _not_ use any loops, but do all the computation natively with numpy vectorized operations (to set expectations here, we should note for instance that our reference solution consists of a single line of code).\n",
    "\n",
    "Note that for \"real\" implementation of softmax loss you would want to scale the logits to prevent numerical overflow, but we won't worry about that here (the rest of the assignment will work fine even if you don't worry about this).  The code below runs the test cases."
   ]
  },
  {
   "cell_type": "code",
   "execution_count": null,
   "metadata": {},
   "outputs": [],
   "source": []
  },
  {
   "cell_type": "code",
   "execution_count": 23,
   "metadata": {},
   "outputs": [
    {
     "name": "stdout",
     "output_type": "stream",
     "text": [
      "============================= test session starts =============================\n",
      "platform win32 -- Python 3.8.16, pytest-7.3.1, pluggy-1.0.0\n",
      "rootdir: d:\\code\\work\\mlc\\hw0\n",
      "collected 6 items / 5 deselected / 1 selected\n",
      "\n",
      "tests\\test_simple_ml.py .                                                [100%]\n",
      "\n",
      "======================= 1 passed, 5 deselected in 2.25s =======================\n"
     ]
    }
   ],
   "source": [
    "!python -m pytest -k \"softmax_loss\""
   ]
  },
  {
   "cell_type": "code",
   "execution_count": 13,
   "metadata": {},
   "outputs": [
    {
     "name": "stdout",
     "output_type": "stream",
     "text": [
      "2\n",
      "[1 4]\n"
     ]
    }
   ],
   "source": [
    "import numpy as np\n",
    "y=[0,1]\n",
    "a=np.array([[1,2],[3,4]])\n",
    "print(a.shape[0])\n",
    "print(a[range(a.shape[0]),y])\n"
   ]
  },
  {
   "cell_type": "code",
   "execution_count": 30,
   "metadata": {},
   "outputs": [
    {
     "name": "stdout",
     "output_type": "stream",
     "text": [
      "[4 6]\n",
      "[[4]\n",
      " [6]]\n",
      "[[0 1]\n",
      " [2 3]]\n"
     ]
    }
   ],
   "source": [
    "import numpy as np\n",
    "a=[[1,2],[3,4]]\n",
    "a=np.array(a)\n",
    "b=np.sum(a,axis=0)\n",
    "print(b)\n",
    "b=np.reshape(b,(2,1))\n",
    "print(b)\n",
    "print(a-1)"
   ]
  },
  {
   "cell_type": "markdown",
   "metadata": {},
   "source": [
    "Then run the submission."
   ]
  },
  {
   "cell_type": "code",
   "execution_count": null,
   "metadata": {},
   "outputs": [],
   "source": [
    "!python3 -m mugrade submit YOUR_GRADER_KEY_HERE -k \"softmax_loss\""
   ]
  },
  {
   "cell_type": "markdown",
   "metadata": {},
   "source": [
    "## Question 4: Stochastic gradient descent for softmax regression\n",
    "\n",
    "In this question you will implement stochastic gradient descent (SGD) for (linear) softmax regression.  In other words, as discussed in lecture on 9/1, we will consider a hypothesis function that makes $n$-dimensional inputs to $k$-dimensional logits via the function\n",
    "\\begin{equation}\n",
    "h(x) = \\Theta^T x\n",
    "\\end{equation}\n",
    "where $x \\in \\mathbb{R}^n$ is the input, and $\\Theta \\in \\mathbb{R}^{n \\times k}$ are the model parameters.  Given a dataset $\\{(x^{(i)} \\in \\mathbb{R}^n, y^{(i)} \\in \\{1,\\ldots,k\\})\\}$, for $i=1,\\ldots,m$, the optimization problem associated with softmax regression is thus given by\n",
    "\\begin{equation}\n",
    "\\DeclareMathOperator*{\\minimize}{minimize}\n",
    "\\minimize_{\\Theta} \\; \\frac{1}{m} \\sum_{i=1}^m \\ell_{\\mathrm{softmax}}(\\Theta^T x^{(i)}, y^{(i)}).\n",
    "\\end{equation}\n",
    "\n",
    "Recall from class that the gradient of the linear softmax objective is given by\n",
    "\\begin{equation}\n",
    "\\nabla_\\Theta \\ell_{\\mathrm{softmax}}(\\Theta^T x, y) = x (z - e_y)^T\n",
    "\\end{equation}\n",
    "where\n",
    "\\begin{equation}\n",
    "\\DeclareMathOperator*{\\normalize}{normalize}\n",
    "z = \\frac{\\exp(\\Theta^T x)}{1^T \\exp(\\Theta^T x)} \\equiv \\normalize(\\exp(\\Theta^T x))\n",
    "\\end{equation}\n",
    "(i.e., $z$ is just the normalized softmax probabilities), and where $e_y$ denotes the $y$th unit basis, i.e., a vector of all zeros with a one in the $y$th position.\n",
    "\n",
    "We can also write this in the more compact notation we discussed in class.  Namely, if we let $X \\in \\mathbb{R}^{m \\times n}$ denote a design matrix of some $m$ inputs (either the entire dataset or a minibatch), $y \\in \\{1,\\ldots,k\\}^m$ a corresponding vector of labels, and overloading $\\ell_{\\mathrm{softmax}}$ to refer to the average softmax loss, then\n",
    "\\begin{equation}\n",
    "\\nabla_\\Theta \\ell_{\\mathrm{softmax}}(X \\Theta, y) = \\frac{1}{m} X^T (Z - I_y)\n",
    "\\end{equation}\n",
    "where\n",
    "\\begin{equation}\n",
    "Z = \\normalize(\\exp(X \\Theta)) \\quad \\mbox{(normalization applied row-wise)}\n",
    "\\end{equation}\n",
    "denotes the matrix of logits, and $I_y \\in \\mathbb{R}^{m \\times k}$ represents a concatenation of one-hot bases for the labels in $y$.\n",
    "\n",
    "Using these gradients, implement the `softmax_regression_epoch()` function, which runs a single epoch of SGD (one pass over a data set) using the specified learning rate / step size `lr` and minibatch size `batch`.  As described in the docstring, your function should modify the `Theta` array in-place.  After implementation, run the tests."
   ]
  },
  {
   "cell_type": "code",
   "execution_count": 4,
   "metadata": {},
   "outputs": [
    {
     "name": "stdout",
     "output_type": "stream",
     "text": [
      "============================= test session starts =============================\n",
      "platform win32 -- Python 3.8.16, pytest-7.3.1, pluggy-1.0.0\n",
      "rootdir: d:\\code\\work\\mlc\\hw0\n",
      "collected 6 items / 5 deselected / 1 selected\n",
      "\n",
      "tests\\test_simple_ml.py .                                                [100%]\n",
      "\n",
      "======================= 1 passed, 5 deselected in 2.41s =======================\n"
     ]
    }
   ],
   "source": [
    "!python -m pytest -k \"softmax_regression_epoch and not cpp\""
   ]
  },
  {
   "cell_type": "markdown",
   "metadata": {},
   "source": [
    "And then run the submission."
   ]
  },
  {
   "cell_type": "code",
   "execution_count": 2,
   "metadata": {},
   "outputs": [],
   "source": [
    "!python3 -m mugrade submit YOUR_GRADER_KEY_HERE -k \"softmax_regression_epoch and not cpp\""
   ]
  },
  {
   "cell_type": "markdown",
   "metadata": {},
   "source": [
    "### Training MNIST with softmax regression\n",
    "\n",
    "Although it's not a part of the tests, now that you have written this code, you can also try training a full MNIST linear classifier using SGD.  For this you can use the `train_softmax()` function in the `src/simple_ml.py` file (we have already written this function for you, so you don't need to write it yourself, though you can take a look to see what it's doing).  \n",
    "\n",
    "You can see how this works using the following code.  For reference, as seen below, our implementation runs in ~3 seconds on Colab, and achieves 7.97% error."
   ]
  },
  {
   "cell_type": "code",
   "execution_count": 24,
   "metadata": {},
   "outputs": [
    {
     "name": "stdout",
     "output_type": "stream",
     "text": [
      "| Epoch | Train Loss | Train Err | Test Loss | Test Err |\n",
      "|     0 |    0.35134 |   0.10182 |   0.33588 |  0.09400 |\n",
      "|     1 |    0.32142 |   0.09268 |   0.31086 |  0.08730 |\n",
      "|     2 |    0.30802 |   0.08795 |   0.30097 |  0.08550 |\n",
      "|     3 |    0.29987 |   0.08532 |   0.29558 |  0.08370 |\n",
      "|     4 |    0.29415 |   0.08323 |   0.29215 |  0.08230 |\n",
      "|     5 |    0.28981 |   0.08182 |   0.28973 |  0.08090 |\n",
      "|     6 |    0.28633 |   0.08085 |   0.28793 |  0.08080 |\n",
      "|     7 |    0.28345 |   0.07997 |   0.28651 |  0.08040 |\n",
      "|     8 |    0.28100 |   0.07923 |   0.28537 |  0.08010 |\n",
      "|     9 |    0.27887 |   0.07847 |   0.28442 |  0.07970 |\n"
     ]
    }
   ],
   "source": [
    "import sys\n",
    "sys.path.append(\"src/\")\n",
    "from simple_ml import train_softmax, parse_mnist\n",
    "\n",
    "X_tr, y_tr = parse_mnist(\"data/train-images-idx3-ubyte.gz\", \n",
    "                         \"data/train-labels-idx1-ubyte.gz\")\n",
    "X_te, y_te = parse_mnist(\"data/t10k-images-idx3-ubyte.gz\",\n",
    "                         \"data/t10k-labels-idx1-ubyte.gz\")\n",
    "\n",
    "train_softmax(X_tr, y_tr, X_te, y_te, epochs=10, lr=0.2, batch=100)"
   ]
  },
  {
   "cell_type": "markdown",
   "metadata": {},
   "source": [
    "## Question 5: SGD for a two-layer neural network\n",
    "\n",
    "Now that you've written SGD for a linear classifier, let's consider the case of a simple two-layer neural network.  Specifically, for input $x \\in \\mathbb{R}^n$, we'll consider a two-layer neural network (without bias terms) of the form\n",
    "\\begin{equation}\n",
    "z = W_2^T \\mathrm{ReLU}(W_1^T x)\n",
    "\\end{equation}\n",
    "where $W_1 \\in \\mathbb{R}^{n \\times d}$ and $W_2 \\in \\mathbb{R}^{d \\times k}$ represent the weights of the network (which has a $d$-dimensional hidden unit), and where $z \\in \\mathbb{R}^k$ represents the logits output by the network.  We again use the softmax / cross-entropy loss, meaning that we want to solve the optimization problem\n",
    "\\begin{equation}\n",
    "\\minimize_{W_1, W_2} \\;\\; \\frac{1}{m} \\sum_{i=1}^m \\ell_{\\mathrm{softmax}}(W_2^T \\mathrm{ReLU}(W_1^T x^{(i)}), y^{(i)}).\n",
    "\\end{equation}\n",
    "Or alternatively, overloading the notation to describe the batch form with matrix $X \\in \\mathbb{R}^{m \\times n}$, this can also be written \n",
    "\\begin{equation}\n",
    "\\minimize_{W_1, W_2} \\;\\; \\ell_{\\mathrm{softmax}}(\\mathrm{ReLU}(X W_1) W_2, y).\n",
    "\\end{equation}\n",
    "\n",
    "Using the chain rule, we can derive the backpropagation updates for this network (we'll briefly cover these in class, on 9/8, but also provide the final form here for ease of implementation).  Specifically, let\n",
    "\\begin{equation}\n",
    "\\begin{split}\n",
    "Z_1 \\in \\mathbb{R}^{m \\times d} & = \\mathrm{ReLU}(X W_1) \\\\\n",
    "G_2 \\in \\mathbb{R}^{m \\times k} & = \\normalize(\\exp(Z_1 W_2)) - I_y \\\\\n",
    "G_1 \\in \\mathbb{R}^{m \\times d} & = \\mathrm{1}\\{Z_1 > 0\\} \\circ (G_2 W_2^T)\n",
    "\\end{split}\n",
    "\\end{equation}\n",
    "where $\\mathrm{1}\\{Z_1 > 0\\}$ is a binary matrix with entries equal to zero or one depending on whether each term in $Z_1$ is strictly positive and where $\\circ$ denotes elementwise multiplication.  Then the gradients of the objective are given by\n",
    "\\begin{equation}\n",
    "\\begin{split}\n",
    "\\nabla_{W_1} \\ell_{\\mathrm{softmax}}(\\mathrm{ReLU}(X W_1) W_2, y) & = \\frac{1}{m} X^T G_1  \\\\\n",
    "\\nabla_{W_2} \\ell_{\\mathrm{softmax}}(\\mathrm{ReLU}(X W_1) W_2, y) & = \\frac{1}{m} Z_1^T G_2.  \\\\\n",
    "\\end{split}\n",
    "\\end{equation}\n",
    "\n",
    "**Note:** If the details of these precise equations seem a bit cryptic to you (prior to the 9/8 lecture), don't worry too much.  These _are_ just the standard backpropagation equations for a two-layer ReLU network: the $Z_1$ term just computes the \"forward\" pass while the $G_2$ and $G_1$ terms denote the backward pass.  But the precise form of the updates can vary depending upon the notation you've used for neural networks, the precise ways you formulate the losses, if you've derived these previously in matrix form, etc.  If the notation seems like it might be familiar from when you've seen deep networks in the past, and makes more sense after the 9/8 lecture, that is more than sufficient in terms of background (after all, the whole _point_ of deep learning systems, to some extent, is that we don't need to bother with these manual calculations).  But if these entire concepts are _completely_ foreign to you, then it may be better to take a separate course on ML and neural networks prior to this course, or at least be aware that there will be substantial catch-up work to do for the course.\n",
    "\n",
    "Using these gradients, now write the `nn_epoch()` function in the `src/simple_ml.py` file.  As with the previous question, your solution should modify the `W1` and `W2` arrays in place.  After implementing the function, run the following test.  Be sure to use matrix operations as indicated by the expresssions above to implement the function: this will be _much_ faster, and more efficient, than attempting to use loops (and it requires far less code)."
   ]
  },
  {
   "cell_type": "code",
   "execution_count": 15,
   "metadata": {},
   "outputs": [],
   "source": [
    "!python3 -m pytest -k \"nn_epoch\""
   ]
  },
  {
   "cell_type": "code",
   "execution_count": null,
   "metadata": {},
   "outputs": [],
   "source": [
    "!python3 -m mugrade submit YOUR_GRADER_KEY_HERE -k \"nn_epoch\""
   ]
  },
  {
   "cell_type": "markdown",
   "metadata": {},
   "source": [
    "### Training a full neural network\n",
    "\n",
    "As before, though it isn't a strict necessity to pass the autograder, it's rather fun to see how well you can use your neural network function to train an MNIST classifier.  Analogous to the softmax regression case, there is a `train_nn()` function in the `simple_ml.py` file you can use to train this two-layer network via SGD with multiple epochs.  Here is code, for example, that trains a two-layer network with 400 hidden units."
   ]
  },
  {
   "cell_type": "code",
   "execution_count": 23,
   "metadata": {},
   "outputs": [
    {
     "name": "stdout",
     "output_type": "stream",
     "text": [
      "| Epoch | Train Loss | Train Err | Test Loss | Test Err |\n",
      "100 (100, 10)\n",
      "(100, 10) (400, 10) (100, 400)\n"
     ]
    },
    {
     "ename": "ValueError",
     "evalue": "operands could not be broadcast together with shapes (100,10) (100,400) ",
     "output_type": "error",
     "traceback": [
      "\u001b[1;31m---------------------------------------------------------------------------\u001b[0m",
      "\u001b[1;31mValueError\u001b[0m                                Traceback (most recent call last)",
      "Cell \u001b[1;32mIn[23], line 15\u001b[0m\n\u001b[0;32m     11\u001b[0m X_tr, y_tr \u001b[39m=\u001b[39m parse_mnist(\u001b[39m\"\u001b[39m\u001b[39mdata/train-images-idx3-ubyte.gz\u001b[39m\u001b[39m\"\u001b[39m, \n\u001b[0;32m     12\u001b[0m                          \u001b[39m\"\u001b[39m\u001b[39mdata/train-labels-idx1-ubyte.gz\u001b[39m\u001b[39m\"\u001b[39m)\n\u001b[0;32m     13\u001b[0m X_te, y_te \u001b[39m=\u001b[39m parse_mnist(\u001b[39m\"\u001b[39m\u001b[39mdata/t10k-images-idx3-ubyte.gz\u001b[39m\u001b[39m\"\u001b[39m,\n\u001b[0;32m     14\u001b[0m                          \u001b[39m\"\u001b[39m\u001b[39mdata/t10k-labels-idx1-ubyte.gz\u001b[39m\u001b[39m\"\u001b[39m)\n\u001b[1;32m---> 15\u001b[0m train_nn(X_tr, y_tr, X_te, y_te, hidden_dim\u001b[39m=\u001b[39;49m\u001b[39m400\u001b[39;49m, epochs\u001b[39m=\u001b[39;49m\u001b[39m20\u001b[39;49m, lr\u001b[39m=\u001b[39;49m\u001b[39m0.2\u001b[39;49m)\n",
      "File \u001b[1;32md:\\code\\work\\mlc\\hw0\\src\\simple_ml.py:231\u001b[0m, in \u001b[0;36mtrain_nn\u001b[1;34m(X_tr, y_tr, X_te, y_te, hidden_dim, epochs, lr, batch)\u001b[0m\n\u001b[0;32m    229\u001b[0m \u001b[39mprint\u001b[39m(\u001b[39m\"\u001b[39m\u001b[39m| Epoch | Train Loss | Train Err | Test Loss | Test Err |\u001b[39m\u001b[39m\"\u001b[39m)\n\u001b[0;32m    230\u001b[0m \u001b[39mfor\u001b[39;00m epoch \u001b[39min\u001b[39;00m \u001b[39mrange\u001b[39m(epochs):\n\u001b[1;32m--> 231\u001b[0m     nn_epoch(X_tr, y_tr, W1, W2, lr\u001b[39m=\u001b[39;49mlr, batch\u001b[39m=\u001b[39;49mbatch)\n\u001b[0;32m    232\u001b[0m     train_loss, train_err \u001b[39m=\u001b[39m loss_err(np\u001b[39m.\u001b[39mmaximum(X_tr\u001b[39m@W1\u001b[39m,\u001b[39m0\u001b[39m)\u001b[39m@W2\u001b[39m, y_tr)\n\u001b[0;32m    233\u001b[0m     test_loss, test_err \u001b[39m=\u001b[39m loss_err(np\u001b[39m.\u001b[39mmaximum(X_te\u001b[39m@W1\u001b[39m,\u001b[39m0\u001b[39m)\u001b[39m@W2\u001b[39m, y_te)\n",
      "File \u001b[1;32md:\\code\\work\\mlc\\hw0\\src\\simple_ml.py:170\u001b[0m, in \u001b[0;36mnn_epoch\u001b[1;34m(X, y, W1, W2, lr, batch)\u001b[0m\n\u001b[0;32m    168\u001b[0m \u001b[39mprint\u001b[39m(j\u001b[39m-\u001b[39mi\u001b[39m*\u001b[39mbatch, z\u001b[39m.\u001b[39mshape)\n\u001b[0;32m    169\u001b[0m \u001b[39mprint\u001b[39m(g2\u001b[39m.\u001b[39mshape, W2\u001b[39m.\u001b[39mshape, z_b\u001b[39m.\u001b[39mshape)\n\u001b[1;32m--> 170\u001b[0m g1\u001b[39m=\u001b[39mnp\u001b[39m.\u001b[39;49mint64(z\u001b[39m>\u001b[39;49m\u001b[39m0\u001b[39;49m)\u001b[39m*\u001b[39;49m(g2\u001b[39m.\u001b[39;49mdot(W2\u001b[39m.\u001b[39;49mT))\n\u001b[0;32m    171\u001b[0m dw1\u001b[39m=\u001b[39mx_b\u001b[39m.\u001b[39mT\u001b[39m.\u001b[39mdot(g1)\u001b[39m/\u001b[39mz\u001b[39m.\u001b[39mshape[\u001b[39m0\u001b[39m]\n\u001b[0;32m    172\u001b[0m dw2\u001b[39m=\u001b[39mz_b\u001b[39m.\u001b[39mT\u001b[39m.\u001b[39mdot(g2)\u001b[39m/\u001b[39mz\u001b[39m.\u001b[39mshape[\u001b[39m0\u001b[39m]\n",
      "\u001b[1;31mValueError\u001b[0m: operands could not be broadcast together with shapes (100,10) (100,400) "
     ]
    }
   ],
   "source": [
    "import sys\n",
    "\n",
    "# Reload the simple_ml module which has been cached from the earlier experiment\n",
    "import importlib\n",
    "import src.simple_ml\n",
    "importlib.reload(src.simple_ml)\n",
    "\n",
    "sys.path.append(\"src/\")\n",
    "from src.simple_ml import train_nn, parse_mnist\n",
    "\n",
    "X_tr, y_tr = parse_mnist(\"data/train-images-idx3-ubyte.gz\", \n",
    "                         \"data/train-labels-idx1-ubyte.gz\")\n",
    "X_te, y_te = parse_mnist(\"data/t10k-images-idx3-ubyte.gz\",\n",
    "                         \"data/t10k-labels-idx1-ubyte.gz\")\n",
    "train_nn(X_tr, y_tr, X_te, y_te, hidden_dim=400, epochs=20, lr=0.2)"
   ]
  },
  {
   "cell_type": "markdown",
   "metadata": {},
   "source": [
    "This takes about 30 seconds to run on Colab for our implementation, and as seen above, it achieve an error of 1.89\\% on MNIST.  Not bad for less than 20 lines of code or so..."
   ]
  },
  {
   "cell_type": "markdown",
   "metadata": {},
   "source": [
    "## Question 6: Softmax regression in C++\n",
    "\n",
    "The final question in this homework requires you to implement the same function you did in Question 4, a function that runs a single epoch of linear softmax regression.  But here, you will do so with a C++ implementation, rather than a Python one. (Strictly speaking, the actual implementation here is more like raw C, but we use C++ features to build the interface to Python using the [pybind11](https://pybind11.readthedocs.io) library, which you will also use to interface between C++ and Python in later homeworks.  Although there are other alternatives, pybind11 library is relatively nice as an interface, as it is a header-only library, and allows you to implement the entire Python/C++ interface within a single C++ source library.)\n",
    "\n",
    "The C++ file you'll implement things in is the `src/simple_ml_ext.cpp` file.  Let's take a look at the relevant portion of the file.  You will specifically implement your code in the following function\n",
    "\n",
    "```cpp\n",
    "void softmax_regression_epoch_cpp(const float *X, const unsigned char *y, \n",
    "\t\t\t\t\t\t\t\t  float *theta, size_t m, size_t n, size_t k, \n",
    "\t\t\t\t\t\t\t\t  float lr, size_t batch)\n",
    "{\n",
    "    /**\n",
    "     * A C++ version of the softmax regression epoch code.  This should run a \n",
    "     * single epoch over the data defined by X and y (and sizes m,n,k), and\n",
    "     * modify theta in place.  Your function will probably want to allocate\n",
    "     * (and then delete) some helper arrays to store the logits and gradients.\n",
    "     * \n",
    "     * Args:\n",
    "     *     X (const float *): pointer to X data, of size m*n, stored in row \n",
    "     *          major (C) format\n",
    "     *     y (const unsigned char *): pointer to y data, of size m\n",
    "     *     theta (float *): pointer to theta data, of size n*k, stored in row\n",
    "     *          major (C) format\n",
    "     *     m (size_t): number of examples\n",
    "     *     n (size_t): input dimension\n",
    "     *     k (size_t): number of classes\n",
    "     *     lr (float): learning rate / SGD step size\n",
    "     *     batch (int): SGD minibatch size\n",
    "     * \n",
    "     * Returns:\n",
    "     *     (None)\n",
    "     */\n",
    "\n",
    "    /// YOUR CODE HERE\n",
    "    \n",
    "    /// END YOUR CODE\n",
    "}\n",
    "```\n",
    "Let's unpack the arguments to this function a bit.  The function essentially mirrors that of the Python implementation, but requires passing some additional arguments because we are operating on raw pointers to the array data rather than any sort of higher-level \"matrix\" data structure.  Specifically, `X`, `y`, and `theta` are pointers to the raw data of the corresponding numpy arrays from the previous section; for 2D arrays, these are stored in C-style (row-major) format, meaning that the first row of $X$ is stored sequentially as the first bytes in `X`, then the second row, etc (this contrasts with _column major_ ordering, which stores the first _column_ of the matrirx sequentially, then the second column, etc).  We also assuming there is no padding in the data; that is, the second row begins immediately after the first row, with no additional bytes added, e.g., to align the memory to a certain boundary (all these issues will be mentioned in subsequent discussion in the course, but avoided for now). Of course, because only the raw data is passed into the function, in order to know the actual sizes of the underlying matrices, we also need to pass these sizes explicitly to the function, which is what is provided by the `m`, `n`, and `k` arguments.\n",
    "\n",
    "As an illustration of how to access the data, note that because `X` represents a row-major, $m \\times n$ matrix, if we want to access the $(i,j)$ element of $X$ (the element in the $i$th row and the $j$th column), we would use the index\n",
    "```cpp\n",
    "X[i*n + j]\n",
    "```\n",
    "i.e., because `X` is $n$ columns, and stores it's columns sequentially, we'd need to access the `X[i*n]` element to access the $i$th row; and if we want to access the $j$th element in this row, we have the expression above.  The same logic would apply to the `theta` matrix, but importantly, because `theta` is a $n \\times k$ matrix, to access it's $(i,j)$ element you would use the index\n",
    "```cpp\n",
    "theta[i*k + j]\n",
    "```\n",
    "Unlike in Python, you need to be very careful when accessing memory directly like this in C++, and get very used to this kind of notation (or build additional data structures that help you access things in a more intuitive fashion, but for this assignment you should just stick to the raw indexing).\n",
    "\n",
    "\n",
    "The second piece of importance for the implementation is the pybind11 code that actually provides the Python interface\n",
    "```cpp\n",
    "PYBIND11_MODULE(simple_ml_ext, m) {\n",
    "    m.def(\"softmax_regression_epoch_cpp\", \n",
    "    \t[](py::array_t<float, py::array::c_style> X, \n",
    "           py::array_t<unsigned char, py::array::c_style> y, \n",
    "           py::array_t<float, py::array::c_style> theta,\n",
    "           float lr,\n",
    "           int batch) {\n",
    "        softmax_regression_epoch_cpp(\n",
    "        \tstatic_cast<const float*>(X.request().ptr),\n",
    "            static_cast<const unsigned char*>(y.request().ptr),\n",
    "            static_cast<float*>(theta.request().ptr),\n",
    "            X.request().shape[0],\n",
    "            X.request().shape[1],\n",
    "            theta.request().shape[1],\n",
    "            lr,\n",
    "            batch\n",
    "           );\n",
    "    },\n",
    "    py::arg(\"X\"), py::arg(\"y\"), py::arg(\"theta\"), \n",
    "    py::arg(\"lr\"), py::arg(\"batch\"));\n",
    "}\n",
    "```\n",
    "This code is provided for you in the file, and you should not change it at all.  But for those who are curious, this code essentially just extracts the raw pointers from the provided inputs (using pybinds numpy interface), and then calls the corresponding `softmax_regression_epoch_cpp` function.\n",
    "\n",
    "Using all this as background, implement the `softmax_regression_epoch_cpp` to accomplish the same updates as your Python implementation did.  Note that because you are just accessing the raw data, you will need to perform all the matrix-vector products manually, rather that rely on numpy to do all the matrix operations for you (**note: do not use an external matrix library like Eigen for this assignment, but code the multiplication yourself ... it is a relatively simple one**). After you do so, you can test the implementation using the following commands."
   ]
  },
  {
   "cell_type": "code",
   "execution_count": 6,
   "metadata": {},
   "outputs": [
    {
     "name": "stdout",
     "output_type": "stream",
     "text": [
      "c++ -O3 -Wall -shared -std=c++11 -fPIC -Id:\\anaconda\\envs\\mlc\\Include -Id:\\anaconda\\envs\\mlc\\lib\\site-packages\\pybind11\\include -LD:\\anaconda\\envs\\mlc\\libs -lpython38 src/simple_ml_ext.cpp -o src/simple_ml_ext.so\n"
     ]
    },
    {
     "name": "stderr",
     "output_type": "stream",
     "text": [
      "C:\\Users\\mawenjie\\AppData\\Local\\Temp\\cckn0wgB.o:simple_ml_ext.cpp:(.text+0xd44): undefined reference to `__imp_Py_GetVersion'\n",
      "C:\\Users\\mawenjie\\AppData\\Local\\Temp\\cckn0wgB.o:simple_ml_ext.cpp:(.text+0xdf3): undefined reference to `__imp_PyModule_Create2'\n",
      "C:\\Users\\mawenjie\\AppData\\Local\\Temp\\cckn0wgB.o:simple_ml_ext.cpp:(.text+0xe17): undefined reference to `__imp__Py_NoneStruct'\n",
      "C:\\Users\\mawenjie\\AppData\\Local\\Temp\\cckn0wgB.o:simple_ml_ext.cpp:(.text+0xee1): undefined reference to `__imp_PyObject_GetAttrString'\n",
      "C:\\Users\\mawenjie\\AppData\\Local\\Temp\\cckn0wgB.o:simple_ml_ext.cpp:(.text+0x106b): undefined reference to `__imp_PyModule_AddObject'\n",
      "C:\\Users\\mawenjie\\AppData\\Local\\Temp\\cckn0wgB.o:simple_ml_ext.cpp:(.text+0x10a4): undefined reference to `__imp_PyExc_ImportError'\n",
      "C:\\Users\\mawenjie\\AppData\\Local\\Temp\\cckn0wgB.o:simple_ml_ext.cpp:(.text+0x10b4): undefined reference to `__imp_PyErr_Format'\n",
      "C:\\Users\\mawenjie\\AppData\\Local\\Temp\\cckn0wgB.o:simple_ml_ext.cpp:(.text+0x10d2): undefined reference to `__imp_PyErr_Occurred'\n",
      "C:\\Users\\mawenjie\\AppData\\Local\\Temp\\cckn0wgB.o:simple_ml_ext.cpp:(.text+0x1112): undefined reference to `__imp_PyErr_Clear'\n",
      "C:\\Users\\mawenjie\\AppData\\Local\\Temp\\cckn0wgB.o:simple_ml_ext.cpp:(.text+0x11ec): undefined reference to `__imp_PyExc_ImportError'\n",
      "C:\\Users\\mawenjie\\AppData\\Local\\Temp\\cckn0wgB.o:simple_ml_ext.cpp:(.text+0x11f5): undefined reference to `__imp_PyErr_SetString'\n",
      "C:\\Users\\mawenjie\\AppData\\Local\\Temp\\cckn0wgB.o:simple_ml_ext.cpp:(.text+0x120d): undefined reference to `__imp_PyExc_ImportError'\n",
      "C:\\Users\\mawenjie\\AppData\\Local\\Temp\\cckn0wgB.o:simple_ml_ext.cpp:(.text+0x176a): undefined reference to `__imp_PyFloat_Type'\n",
      "C:\\Users\\mawenjie\\AppData\\Local\\Temp\\cckn0wgB.o:simple_ml_ext.cpp:(.text+0x1775): undefined reference to `__imp_PyType_IsSubtype'\n",
      "C:\\Users\\mawenjie\\AppData\\Local\\Temp\\cckn0wgB.o:simple_ml_ext.cpp:(.text+0x1786): undefined reference to `__imp_PyFloat_AsDouble'\n",
      "C:\\Users\\mawenjie\\AppData\\Local\\Temp\\cckn0wgB.o:simple_ml_ext.cpp:(.text+0x17d9): undefined reference to `__imp_PyFloat_Type'\n",
      "C:\\Users\\mawenjie\\AppData\\Local\\Temp\\cckn0wgB.o:simple_ml_ext.cpp:(.text+0x17e8): undefined reference to `__imp_PyType_IsSubtype'\n",
      "C:\\Users\\mawenjie\\AppData\\Local\\Temp\\cckn0wgB.o:simple_ml_ext.cpp:(.text+0x1827): undefined reference to `__imp_PyLong_AsLong'\n",
      "C:\\Users\\mawenjie\\AppData\\Local\\Temp\\cckn0wgB.o:simple_ml_ext.cpp:(.text+0x1868): undefined reference to `__imp_PyType_IsSubtype'\n",
      "C:\\Users\\mawenjie\\AppData\\Local\\Temp\\cckn0wgB.o:simple_ml_ext.cpp:(.text+0x18d9): undefined reference to `__imp_PyType_IsSubtype'\n",
      "C:\\Users\\mawenjie\\AppData\\Local\\Temp\\cckn0wgB.o:simple_ml_ext.cpp:(.text+0x194a): undefined reference to `__imp_PyType_IsSubtype'\n",
      "C:\\Users\\mawenjie\\AppData\\Local\\Temp\\cckn0wgB.o:simple_ml_ext.cpp:(.text+0x19b2): undefined reference to `__imp__Py_Dealloc'\n",
      "C:\\Users\\mawenjie\\AppData\\Local\\Temp\\cckn0wgB.o:simple_ml_ext.cpp:(.text+0x19c2): undefined reference to `__imp__Py_Dealloc'\n",
      "C:\\Users\\mawenjie\\AppData\\Local\\Temp\\cckn0wgB.o:simple_ml_ext.cpp:(.text+0x19d2): undefined reference to `__imp__Py_Dealloc'\n",
      "C:\\Users\\mawenjie\\AppData\\Local\\Temp\\cckn0wgB.o:simple_ml_ext.cpp:(.text+0x19e2): undefined reference to `__imp_PyErr_Occurred'\n",
      "C:\\Users\\mawenjie\\AppData\\Local\\Temp\\cckn0wgB.o:simple_ml_ext.cpp:(.text+0x19f2): undefined reference to `__imp_PyErr_Clear'\n",
      "C:\\Users\\mawenjie\\AppData\\Local\\Temp\\cckn0wgB.o:simple_ml_ext.cpp:(.text+0x1af9): undefined reference to `__imp__Py_NoneStruct'\n",
      "C:\\Users\\mawenjie\\AppData\\Local\\Temp\\cckn0wgB.o:simple_ml_ext.cpp:(.text+0x1b1a): undefined reference to `__imp__Py_Dealloc'\n",
      "C:\\Users\\mawenjie\\AppData\\Local\\Temp\\cckn0wgB.o:simple_ml_ext.cpp:(.text+0x1b33): undefined reference to `__imp__Py_Dealloc'\n",
      "C:\\Users\\mawenjie\\AppData\\Local\\Temp\\cckn0wgB.o:simple_ml_ext.cpp:(.text+0x1b4c): undefined reference to `__imp__Py_Dealloc'\n",
      "C:\\Users\\mawenjie\\AppData\\Local\\Temp\\cckn0wgB.o:simple_ml_ext.cpp:(.text+0x1b73): undefined reference to `__imp__Py_Dealloc'\n",
      "C:\\Users\\mawenjie\\AppData\\Local\\Temp\\cckn0wgB.o:simple_ml_ext.cpp:(.text+0x1ba3): undefined reference to `__imp__Py_Dealloc'\n",
      "C:\\Users\\mawenjie\\AppData\\Local\\Temp\\cckn0wgB.o:simple_ml_ext.cpp:(.text+0x1bd3): more undefined references to `__imp__Py_Dealloc' follow\n",
      "C:\\Users\\mawenjie\\AppData\\Local\\Temp\\cckn0wgB.o:simple_ml_ext.cpp:(.text+0x1cb0): undefined reference to `__imp_PyErr_Clear'\n",
      "C:\\Users\\mawenjie\\AppData\\Local\\Temp\\cckn0wgB.o:simple_ml_ext.cpp:(.text+0x1cc7): undefined reference to `__imp__Py_Dealloc'\n",
      "C:\\Users\\mawenjie\\AppData\\Local\\Temp\\cckn0wgB.o:simple_ml_ext.cpp:(.text+0x1ce0): undefined reference to `__imp_PyErr_Clear'\n",
      "C:\\Users\\mawenjie\\AppData\\Local\\Temp\\cckn0wgB.o:simple_ml_ext.cpp:(.text+0x1cf7): undefined reference to `__imp__Py_Dealloc'\n",
      "C:\\Users\\mawenjie\\AppData\\Local\\Temp\\cckn0wgB.o:simple_ml_ext.cpp:(.text+0x1d13): undefined reference to `__imp_PyErr_Clear'\n",
      "C:\\Users\\mawenjie\\AppData\\Local\\Temp\\cckn0wgB.o:simple_ml_ext.cpp:(.text+0x1d29): undefined reference to `__imp_PyNumber_Check'\n",
      "C:\\Users\\mawenjie\\AppData\\Local\\Temp\\cckn0wgB.o:simple_ml_ext.cpp:(.text+0x1d3a): undefined reference to `__imp_PyNumber_Float'\n",
      "C:\\Users\\mawenjie\\AppData\\Local\\Temp\\cckn0wgB.o:simple_ml_ext.cpp:(.text+0x1d82): undefined reference to `__imp_PyErr_Occurred'\n",
      "C:\\Users\\mawenjie\\AppData\\Local\\Temp\\cckn0wgB.o:simple_ml_ext.cpp:(.text+0x1d92): undefined reference to `__imp_PyErr_Clear'\n",
      "C:\\Users\\mawenjie\\AppData\\Local\\Temp\\cckn0wgB.o:simple_ml_ext.cpp:(.text+0x1da7): undefined reference to `__imp_PyNumber_Check'\n",
      "C:\\Users\\mawenjie\\AppData\\Local\\Temp\\cckn0wgB.o:simple_ml_ext.cpp:(.text+0x1db8): undefined reference to `__imp_PyNumber_Long'\n",
      "C:\\Users\\mawenjie\\AppData\\Local\\Temp\\cckn0wgB.o:simple_ml_ext.cpp:(.text+0x1df3): undefined reference to `__imp_PyExc_ValueError'\n",
      "C:\\Users\\mawenjie\\AppData\\Local\\Temp\\cckn0wgB.o:simple_ml_ext.cpp:(.text+0x1e03): undefined reference to `__imp_PyErr_SetString'\n",
      "C:\\Users\\mawenjie\\AppData\\Local\\Temp\\cckn0wgB.o:simple_ml_ext.cpp:(.text+0x1e18): undefined reference to `__imp_PyExc_ValueError'\n",
      "C:\\Users\\mawenjie\\AppData\\Local\\Temp\\cckn0wgB.o:simple_ml_ext.cpp:(.text+0x1e28): undefined reference to `__imp_PyErr_SetString'\n",
      "C:\\Users\\mawenjie\\AppData\\Local\\Temp\\cckn0wgB.o:simple_ml_ext.cpp:(.text+0x1e43): undefined reference to `__imp_PyExc_ValueError'\n",
      "C:\\Users\\mawenjie\\AppData\\Local\\Temp\\cckn0wgB.o:simple_ml_ext.cpp:(.text+0x1e53): undefined reference to `__imp_PyErr_SetString'\n",
      "C:\\Users\\mawenjie\\AppData\\Local\\Temp\\cckn0wgB.o:simple_ml_ext.cpp:(.text$pybind11_static_get[pybind11_static_get]+0x3): undefined reference to `__imp_PyProperty_Type'\n",
      "C:\\Users\\mawenjie\\AppData\\Local\\Temp\\cckn0wgB.o:simple_ml_ext.cpp:(.text$pybind11_static_set[pybind11_static_set]+0x15): undefined reference to `__imp_PyProperty_Type'\n",
      "C:\\Users\\mawenjie\\AppData\\Local\\Temp\\cckn0wgB.o:simple_ml_ext.cpp:(.text$_ZNK8pybind1110cast_error9set_errorEv[_ZNK8pybind1110cast_error9set_errorEv]+0x10): undefined reference to `__imp_PyExc_RuntimeError'\n",
      "C:\\Users\\mawenjie\\AppData\\Local\\Temp\\cckn0wgB.o:simple_ml_ext.cpp:(.text$_ZNK8pybind1110cast_error9set_errorEv[_ZNK8pybind1110cast_error9set_errorEv]+0x1e): undefined reference to `__imp_PyErr_SetString'\n",
      "C:\\Users\\mawenjie\\AppData\\Local\\Temp\\cckn0wgB.o:simple_ml_ext.cpp:(.text$_ZNK8pybind1110type_error9set_errorEv[_ZNK8pybind1110type_error9set_errorEv]+0x10): undefined reference to `__imp_PyExc_TypeError'\n",
      "C:\\Users\\mawenjie\\AppData\\Local\\Temp\\cckn0wgB.o:simple_ml_ext.cpp:(.text$_ZNK8pybind1110type_error9set_errorEv[_ZNK8pybind1110type_error9set_errorEv]+0x1e): undefined reference to `__imp_PyErr_SetString'\n",
      "C:\\Users\\mawenjie\\AppData\\Local\\Temp\\cckn0wgB.o:simple_ml_ext.cpp:(.text$pybind11_meta_getattro[pybind11_meta_getattro]+0xe): undefined reference to `__imp__PyType_Lookup'\n",
      "C:\\Users\\mawenjie\\AppData\\Local\\Temp\\cckn0wgB.o:simple_ml_ext.cpp:(.text$pybind11_meta_getattro[pybind11_meta_getattro]+0x1a): undefined reference to `__imp_PyType_Type'\n",
      "C:\\Users\\mawenjie\\AppData\\Local\\Temp\\cckn0wgB.o:simple_ml_ext.cpp:(.text$pybind11_meta_getattro[pybind11_meta_getattro]+0x37): undefined reference to `__imp_PyInstanceMethod_Type'\n",
      "C:\\Users\\mawenjie\\AppData\\Local\\Temp\\cckn0wgB.o:simple_ml_ext.cpp:(.text$_ZN8pybind1113pybind11_failEPKc[_ZN8pybind1113pybind11_failEPKc]+0xb): undefined reference to `__imp_PyErr_Occurred'\n",
      "C:\\Users\\mawenjie\\AppData\\Local\\Temp\\cckn0wgB.o:simple_ml_ext.cpp:(.text$_ZN8pybind1113pybind11_failERKNSt7__cxx1112basic_stringIcSt11char_traitsIcESaIcEEE[_ZN8pybind1113pybind11_failERKNSt7__cxx1112basic_stringIcSt11char_traitsIcESaIcEEE]+0xb): undefined reference to `__imp_PyErr_Occurred'\n",
      "C:\\Users\\mawenjie\\AppData\\Local\\Temp\\cckn0wgB.o:simple_ml_ext.cpp:(.text$_ZN8pybind1111buffer_infoD1Ev[_ZN8pybind1111buffer_infoD1Ev]+0x52): undefined reference to `__imp_PyBuffer_Release'\n",
      "C:\\Users\\mawenjie\\AppData\\Local\\Temp\\cckn0wgB.o:simple_ml_ext.cpp:(.text$_ZNKR8pybind116handle7dec_refEv[_ZNKR8pybind116handle7dec_refEv]+0x27): undefined reference to `__imp__Py_Dealloc'\n",
      "C:\\Users\\mawenjie\\AppData\\Local\\Temp\\cckn0wgB.o:simple_ml_ext.cpp:(.text$_ZN8pybind116detail25error_fetch_and_normalizeD1Ev[_ZN8pybind116detail25error_fetch_and_normalizeD1Ev]+0x58): undefined reference to `__imp__Py_Dealloc'\n",
      "C:\\Users\\mawenjie\\AppData\\Local\\Temp\\cckn0wgB.o:simple_ml_ext.cpp:(.text$_ZN8pybind116detail25error_fetch_and_normalizeD1Ev[_ZN8pybind116detail25error_fetch_and_normalizeD1Ev]+0x62): undefined reference to `__imp__Py_Dealloc'\n",
      "C:\\Users\\mawenjie\\AppData\\Local\\Temp\\cckn0wgB.o:simple_ml_ext.cpp:(.text$_ZN8pybind116detail25error_fetch_and_normalizeD1Ev[_ZN8pybind116detail25error_fetch_and_normalizeD1Ev]+0x72): undefined reference to `__imp__Py_Dealloc'\n",
      "C:\\Users\\mawenjie\\AppData\\Local\\Temp\\cckn0wgB.o:simple_ml_ext.cpp:(.text$_ZN8pybind1110raise_fromEP7_objectPKc[_ZN8pybind1110raise_fromEP7_objectPKc]+0x11): undefined reference to `__imp_PyErr_Occurred'\n",
      "C:\\Users\\mawenjie\\AppData\\Local\\Temp\\cckn0wgB.o:simple_ml_ext.cpp:(.text$_ZN8pybind1110raise_fromEP7_objectPKc[_ZN8pybind1110raise_fromEP7_objectPKc]+0x53): undefined reference to `__imp_PyErr_Fetch'\n",
      "C:\\Users\\mawenjie\\AppData\\Local\\Temp\\cckn0wgB.o:simple_ml_ext.cpp:(.text$_ZN8pybind1110raise_fromEP7_objectPKc[_ZN8pybind1110raise_fromEP7_objectPKc]+0x78): undefined reference to `__imp_PyErr_NormalizeException'\n",
      "C:\\Users\\mawenjie\\AppData\\Local\\Temp\\cckn0wgB.o:simple_ml_ext.cpp:(.text$_ZN8pybind1110raise_fromEP7_objectPKc[_ZN8pybind1110raise_fromEP7_objectPKc]+0x8f): undefined reference to `__imp_PyException_SetTraceback'\n",
      "C:\\Users\\mawenjie\\AppData\\Local\\Temp\\cckn0wgB.o:simple_ml_ext.cpp:(.text$_ZN8pybind1110raise_fromEP7_objectPKc[_ZN8pybind1110raise_fromEP7_objectPKc]+0xdf): undefined reference to `__imp_PyErr_SetString'\n",
      "C:\\Users\\mawenjie\\AppData\\Local\\Temp\\cckn0wgB.o:simple_ml_ext.cpp:(.text$_ZN8pybind1110raise_fromEP7_objectPKc[_ZN8pybind1110raise_fromEP7_objectPKc]+0x109): undefined reference to `__imp_PyException_SetCause'\n",
      "C:\\Users\\mawenjie\\AppData\\Local\\Temp\\cckn0wgB.o:simple_ml_ext.cpp:(.text$_ZN8pybind1110raise_fromEP7_objectPKc[_ZN8pybind1110raise_fromEP7_objectPKc]+0x119): undefined reference to `__imp_PyException_SetContext'\n",
      "C:\\Users\\mawenjie\\AppData\\Local\\Temp\\cckn0wgB.o:simple_ml_ext.cpp:(.text$_ZN8pybind1110raise_fromEP7_objectPKc[_ZN8pybind1110raise_fromEP7_objectPKc]+0x12e): undefined reference to `__imp_PyErr_Restore'\n",
      "C:\\Users\\mawenjie\\AppData\\Local\\Temp\\cckn0wgB.o:simple_ml_ext.cpp:(.text$_ZN8pybind1110raise_fromEP7_objectPKc[_ZN8pybind1110raise_fromEP7_objectPKc]+0x144): undefined reference to `__imp__Py_Dealloc'\n",
      "C:\\Users\\mawenjie\\AppData\\Local\\Temp\\cckn0wgB.o:simple_ml_ext.cpp:(.text$_ZN8pybind1110raise_fromEP7_objectPKc[_ZN8pybind1110raise_fromEP7_objectPKc]+0x152): undefined reference to `__imp__Py_Dealloc'\n",
      "C:\\Users\\mawenjie\\AppData\\Local\\Temp\\cckn0wgB.o:simple_ml_ext.cpp:(.text$_ZN8pybind116detail9raise_errEP7_objectPKc[_ZN8pybind116detail9raise_errEP7_objectPKc]+0xe): undefined reference to `__imp_PyErr_Occurred'\n",
      "C:\\Users\\mawenjie\\AppData\\Local\\Temp\\cckn0wgB.o:simple_ml_ext.cpp:(.text$_ZN8pybind116detail9raise_errEP7_objectPKc[_ZN8pybind116detail9raise_errEP7_objectPKc]+0x32): undefined reference to `__imp_PyErr_SetString'\n",
      "C:\\Users\\mawenjie\\AppData\\Local\\Temp\\cckn0wgB.o:simple_ml_ext.cpp:(.text$_ZN8pybind1112cpp_function8destructEPNS_6detail15function_recordEb[_ZN8pybind1112cpp_function8destructEPNS_6detail15function_recordEb]+0x1e): undefined reference to `__imp__Py_Dealloc'\n",
      "C:\\Users\\mawenjie\\AppData\\Local\\Temp\\cckn0wgB.o:simple_ml_ext.cpp:(.text$_ZN8pybind116detail13function_callD1Ev[_ZN8pybind116detail13function_callD1Ev]+0x52): undefined reference to `__imp__Py_Dealloc'\n",
      "C:\\Users\\mawenjie\\AppData\\Local\\Temp\\cckn0wgB.o:simple_ml_ext.cpp:(.text$_ZN8pybind116detail13function_callD1Ev[_ZN8pybind116detail13function_callD1Ev]+0x62): undefined reference to `__imp__Py_Dealloc'\n",
      "C:\\Users\\mawenjie\\AppData\\Local\\Temp\\cckn0wgB.o:simple_ml_ext.cpp:(.text$pybind11_object_init[pybind11_object_init]+0x6c): undefined reference to `__imp_PyExc_TypeError'\n",
      "C:\\Users\\mawenjie\\AppData\\Local\\Temp\\cckn0wgB.o:simple_ml_ext.cpp:(.text$pybind11_object_init[pybind11_object_init]+0x7a): undefined reference to `__imp_PyErr_SetString'\n",
      "C:\\Users\\mawenjie\\AppData\\Local\\Temp\\cckn0wgB.o:simple_ml_ext.cpp:(.text$_ZNSt6vectorIN8pybind116detail13function_callESaIS2_EED1Ev[_ZNSt6vectorIN8pybind116detail13function_callESaIS2_EED1Ev]+0x26): undefined reference to `__imp__Py_Dealloc'\n",
      "C:\\Users\\mawenjie\\AppData\\Local\\Temp\\cckn0wgB.o:simple_ml_ext.cpp:(.text$_ZNSt6vectorIN8pybind116detail13function_callESaIS2_EE17_M_realloc_insertIJS2_EEEvN9__gnu_cxx17__normal_iteratorIPS2_S4_EEDpOT_[_ZNSt6vectorIN8pybind116detail13function_callESaIS2_EE17_M_realloc_insertIJS2_EEEvN9__gnu_cxx17__normal_iteratorIPS2_S4_EEDpOT_]+0x3e7): undefined reference to `__imp__Py_Dealloc'\n",
      "C:\\Users\\mawenjie\\AppData\\Local\\Temp\\cckn0wgB.o:simple_ml_ext.cpp:(.text$_ZN8pybind1110make_tupleILNS_19return_value_policyE1EJRNS_3strEEEENS_5tupleEDpOT0_[_ZN8pybind1110make_tupleILNS_19return_value_policyE1EJRNS_3strEEEENS_5tupleEDpOT0_]+0x39): undefined reference to `__imp_PyTuple_New'\n",
      "C:\\Users\\mawenjie\\AppData\\Local\\Temp\\cckn0wgB.o:simple_ml_ext.cpp:(.text$_ZN8pybind1110make_tupleILNS_19return_value_policyE1EJRNS_6handleEEEENS_5tupleEDpOT0_[_ZN8pybind1110make_tupleILNS_19return_value_policyE1EJRNS_6handleEEEENS_5tupleEDpOT0_]+0x39): undefined reference to `__imp_PyTuple_New'\n",
      "C:\\Users\\mawenjie\\AppData\\Local\\Temp\\cckn0wgB.o:simple_ml_ext.cpp:(.text$_ZN8pybind116detail9load_typeIbvEERNS0_11type_casterIT_T0_EES6_RKNS_6handleE[_ZN8pybind116detail9load_typeIbvEERNS0_11type_casterIT_T0_EES6_RKNS_6handleE]+0x24): undefined reference to `__imp__Py_TrueStruct'\n",
      "C:\\Users\\mawenjie\\AppData\\Local\\Temp\\cckn0wgB.o:simple_ml_ext.cpp:(.text$_ZN8pybind116detail9load_typeIbvEERNS0_11type_casterIT_T0_EES6_RKNS_6handleE[_ZN8pybind116detail9load_typeIbvEERNS0_11type_casterIT_T0_EES6_RKNS_6handleE]+0x31): undefined reference to `__imp__Py_FalseStruct'\n",
      "C:\\Users\\mawenjie\\AppData\\Local\\Temp\\cckn0wgB.o:simple_ml_ext.cpp:(.text$_ZN8pybind116detail9load_typeIbvEERNS0_11type_casterIT_T0_EES6_RKNS_6handleE[_ZN8pybind116detail9load_typeIbvEERNS0_11type_casterIT_T0_EES6_RKNS_6handleE]+0x3e): undefined reference to `__imp__Py_NoneStruct'\n",
      "C:\\Users\\mawenjie\\AppData\\Local\\Temp\\cckn0wgB.o:simple_ml_ext.cpp:(.text$_ZN8pybind116detail9load_typeIbvEERNS0_11type_casterIT_T0_EES6_RKNS_6handleE[_ZN8pybind116detail9load_typeIbvEERNS0_11type_casterIT_T0_EES6_RKNS_6handleE]+0x72): undefined reference to `__imp_PyErr_Clear'\n",
      "C:\\Users\\mawenjie\\AppData\\Local\\Temp\\cckn0wgB.o:simple_ml_ext.cpp:(.text$_ZNK8pybind116detail10object_apiINS_6handleEE8containsIRNS_3strEEEbOT_[_ZNK8pybind116detail10object_apiINS_6handleEE8containsIRNS_3strEEEbOT_]+0x29): undefined reference to `__imp_PyGILState_Check'\n",
      "C:\\Users\\mawenjie\\AppData\\Local\\Temp\\cckn0wgB.o:simple_ml_ext.cpp:(.text$_ZNK8pybind116detail10object_apiINS_6handleEE8containsIRNS_3strEEEbOT_[_ZNK8pybind116detail10object_apiINS_6handleEE8containsIRNS_3strEEEbOT_]+0x5a): undefined reference to `__imp_PyObject_CallObject'\n",
      "C:\\Users\\mawenjie\\AppData\\Local\\Temp\\cckn0wgB.o:simple_ml_ext.cpp:(.text$_ZNK8pybind116detail10object_apiINS_6handleEE8containsIRNS_3strEEEbOT_[_ZNK8pybind116detail10object_apiINS_6handleEE8containsIRNS_3strEEEbOT_]+0xc4): undefined reference to `__imp__Py_Dealloc'\n",
      "C:\\Users\\mawenjie\\AppData\\Local\\Temp\\cckn0wgB.o:simple_ml_ext.cpp:(.text$_ZNK8pybind116detail10object_apiINS_6handleEE8containsIRNS_3strEEEbOT_[_ZNK8pybind116detail10object_apiINS_6handleEE8containsIRNS_3strEEEbOT_]+0xd4): undefined reference to `__imp__Py_Dealloc'\n",
      "C:\\Users\\mawenjie\\AppData\\Local\\Temp\\cckn0wgB.o:simple_ml_ext.cpp:(.text$_ZNK8pybind116detail10object_apiINS_6handleEE8containsIRNS_3strEEEbOT_[_ZNK8pybind116detail10object_apiINS_6handleEE8containsIRNS_3strEEEbOT_]+0xe2): undefined reference to `__imp__Py_Dealloc'\n",
      "C:\\Users\\mawenjie\\AppData\\Local\\Temp\\cckn0wgB.o:simple_ml_ext.cpp:(.text$_ZNK8pybind116detail10object_apiINS_6handleEE8containsIRNS_3strEEEbOT_[_ZNK8pybind116detail10object_apiINS_6handleEE8containsIRNS_3strEEEbOT_]+0x10d): undefined reference to `__imp_PyObject_GetAttrString'\n",
      "C:\\Users\\mawenjie\\AppData\\Local\\Temp\\cckn0wgB.o:simple_ml_ext.cpp:(.text$_ZN8pybind116detail13get_internalsEv[_ZN8pybind116detail13get_internalsEv]+0x42): undefined reference to `__imp_PyGILState_Ensure'\n",
      "C:\\Users\\mawenjie\\AppData\\Local\\Temp\\cckn0wgB.o:simple_ml_ext.cpp:(.text$_ZN8pybind116detail13get_internalsEv[_ZN8pybind116detail13get_internalsEv]+0x58): undefined reference to `__imp_PyErr_Fetch'\n",
      "C:\\Users\\mawenjie\\AppData\\Local\\Temp\\cckn0wgB.o:simple_ml_ext.cpp:(.text$_ZN8pybind116detail13get_internalsEv[_ZN8pybind116detail13get_internalsEv]+0x72): undefined reference to `__imp_PyEval_GetBuiltins'\n",
      "C:\\Users\\mawenjie\\AppData\\Local\\Temp\\cckn0wgB.o:simple_ml_ext.cpp:(.text$_ZN8pybind116detail13get_internalsEv[_ZN8pybind116detail13get_internalsEv]+0x194): undefined reference to `__imp_PyThreadState_Get'\n",
      "C:\\Users\\mawenjie\\AppData\\Local\\Temp\\cckn0wgB.o:simple_ml_ext.cpp:(.text$_ZN8pybind116detail13get_internalsEv[_ZN8pybind116detail13get_internalsEv]+0x1a0): undefined reference to `__imp_PyThread_tss_alloc'\n",
      "C:\\Users\\mawenjie\\AppData\\Local\\Temp\\cckn0wgB.o:simple_ml_ext.cpp:(.text$_ZN8pybind116detail13get_internalsEv[_ZN8pybind116detail13get_internalsEv]+0x1c0): undefined reference to `__imp_PyThread_tss_create'\n",
      "C:\\Users\\mawenjie\\AppData\\Local\\Temp\\cckn0wgB.o:simple_ml_ext.cpp:(.text$_ZN8pybind116detail13get_internalsEv[_ZN8pybind116detail13get_internalsEv]+0x1db): undefined reference to `__imp_PyThread_tss_set'\n",
      "C:\\Users\\mawenjie\\AppData\\Local\\Temp\\cckn0wgB.o:simple_ml_ext.cpp:(.text$_ZN8pybind116detail13get_internalsEv[_ZN8pybind116detail13get_internalsEv]+0x1fb): undefined reference to `__imp_PyCapsule_New'\n",
      "C:\\Users\\mawenjie\\AppData\\Local\\Temp\\cckn0wgB.o:simple_ml_ext.cpp:(.text$_ZN8pybind116detail13get_internalsEv[_ZN8pybind116detail13get_internalsEv]+0x25d): undefined reference to `__imp_PyObject_SetItem'\n",
      "C:\\Users\\mawenjie\\AppData\\Local\\Temp\\cckn0wgB.o:simple_ml_ext.cpp:(.text$_ZN8pybind116detail13get_internalsEv[_ZN8pybind116detail13get_internalsEv]+0x2ce): undefined reference to `__imp_PyUnicode_FromString'\n",
      "C:\\Users\\mawenjie\\AppData\\Local\\Temp\\cckn0wgB.o:simple_ml_ext.cpp:(.text$_ZN8pybind116detail13get_internalsEv[_ZN8pybind116detail13get_internalsEv]+0x2dc): undefined reference to `__imp_PyType_Type'\n",
      "C:\\Users\\mawenjie\\AppData\\Local\\Temp\\cckn0wgB.o:simple_ml_ext.cpp:(.text$_ZN8pybind116detail13get_internalsEv[_ZN8pybind116detail13get_internalsEv]+0x347): undefined reference to `__imp_PyProperty_Type'\n",
      "C:\\Users\\mawenjie\\AppData\\Local\\Temp\\cckn0wgB.o:simple_ml_ext.cpp:(.text$_ZN8pybind116detail13get_internalsEv[_ZN8pybind116detail13get_internalsEv]+0x37f): undefined reference to `__imp_PyType_Ready'\n",
      "C:\\Users\\mawenjie\\AppData\\Local\\Temp\\cckn0wgB.o:simple_ml_ext.cpp:(.text$_ZN8pybind116detail13get_internalsEv[_ZN8pybind116detail13get_internalsEv]+0x3a4): undefined reference to `__imp_PyObject_SetAttrString'\n",
      "C:\\Users\\mawenjie\\AppData\\Local\\Temp\\cckn0wgB.o:simple_ml_ext.cpp:(.text$_ZN8pybind116detail13get_internalsEv[_ZN8pybind116detail13get_internalsEv]+0x543): undefined reference to `__imp_PyErr_Restore'\n",
      "C:\\Users\\mawenjie\\AppData\\Local\\Temp\\cckn0wgB.o:simple_ml_ext.cpp:(.text$_ZN8pybind116detail13get_internalsEv[_ZN8pybind116detail13get_internalsEv]+0x54c): undefined reference to `__imp_PyGILState_Release'\n",
      "C:\\Users\\mawenjie\\AppData\\Local\\Temp\\cckn0wgB.o:simple_ml_ext.cpp:(.text$_ZN8pybind116detail13get_internalsEv[_ZN8pybind116detail13get_internalsEv]+0x5f0): undefined reference to `__imp_PyCapsule_Type'\n",
      "C:\\Users\\mawenjie\\AppData\\Local\\Temp\\cckn0wgB.o:simple_ml_ext.cpp:(.text$_ZN8pybind116detail13get_internalsEv[_ZN8pybind116detail13get_internalsEv]+0x67c): undefined reference to `__imp_PyCapsule_GetPointer'\n",
      "C:\\Users\\mawenjie\\AppData\\Local\\Temp\\cckn0wgB.o:simple_ml_ext.cpp:(.text$_ZN8pybind116detail13get_internalsEv[_ZN8pybind116detail13get_internalsEv]+0x722): undefined reference to `__imp_PyObject_GetItem'\n",
      "C:\\Users\\mawenjie\\AppData\\Local\\Temp\\cckn0wgB.o:simple_ml_ext.cpp:(.text$_ZN8pybind116detail13get_internalsEv[_ZN8pybind116detail13get_internalsEv]+0x787): undefined reference to `__imp_PyObject_GetItem'\n",
      "C:\\Users\\mawenjie\\AppData\\Local\\Temp\\cckn0wgB.o:simple_ml_ext.cpp:(.text$_ZN8pybind116detail13get_internalsEv[_ZN8pybind116detail13get_internalsEv]+0x7f5): undefined reference to `__imp_PyErr_Restore'\n",
      "C:\\Users\\mawenjie\\AppData\\Local\\Temp\\cckn0wgB.o:simple_ml_ext.cpp:(.text$_ZN8pybind116detail13get_internalsEv[_ZN8pybind116detail13get_internalsEv]+0x7fe): undefined reference to `__imp_PyGILState_Release'\n",
      "C:\\Users\\mawenjie\\AppData\\Local\\Temp\\cckn0wgB.o:simple_ml_ext.cpp:(.text$_ZN8pybind1118gil_scoped_acquire7dec_refEv[_ZN8pybind1118gil_scoped_acquire7dec_refEv]+0x14): undefined reference to `__imp__PyThreadState_UncheckedGet'\n",
      "C:\\Users\\mawenjie\\AppData\\Local\\Temp\\cckn0wgB.o:simple_ml_ext.cpp:(.text$_ZN8pybind1118gil_scoped_acquire7dec_refEv[_ZN8pybind1118gil_scoped_acquire7dec_refEv]+0x34): undefined reference to `__imp_PyThreadState_Clear'\n",
      "C:\\Users\\mawenjie\\AppData\\Local\\Temp\\cckn0wgB.o:simple_ml_ext.cpp:(.text$_ZN8pybind1118gil_scoped_acquire7dec_refEv[_ZN8pybind1118gil_scoped_acquire7dec_refEv]+0x4e): undefined reference to `__imp_PyThread_tss_set'\n",
      "C:\\Users\\mawenjie\\AppData\\Local\\Temp\\cckn0wgB.o:simple_ml_ext.cpp:(.text$_ZN8pybind1118gil_scoped_acquire7dec_refEv[_ZN8pybind1118gil_scoped_acquire7dec_refEv]+0x62): undefined reference to `__imp_PyThreadState_DeleteCurrent'\n",
      "C:\\Users\\mawenjie\\AppData\\Local\\Temp\\cckn0wgB.o:simple_ml_ext.cpp:(.text$pybind11_meta_setattro[pybind11_meta_setattro]+0x17): undefined reference to `__imp__PyType_Lookup'\n",
      "C:\\Users\\mawenjie\\AppData\\Local\\Temp\\cckn0wgB.o:simple_ml_ext.cpp:(.text$pybind11_meta_setattro[pybind11_meta_setattro]+0x30): undefined reference to `__imp_PyType_Type'\n",
      "C:\\Users\\mawenjie\\AppData\\Local\\Temp\\cckn0wgB.o:simple_ml_ext.cpp:(.text$pybind11_meta_setattro[pybind11_meta_setattro]+0x60): undefined reference to `__imp_PyObject_IsInstance'\n",
      "C:\\Users\\mawenjie\\AppData\\Local\\Temp\\cckn0wgB.o:simple_ml_ext.cpp:(.text$_ZN8pybind116detail19get_local_internalsEv[_ZN8pybind116detail19get_local_internalsEv]+0x116): undefined reference to `__imp_PyThread_tss_alloc'\n",
      "C:\\Users\\mawenjie\\AppData\\Local\\Temp\\cckn0wgB.o:simple_ml_ext.cpp:(.text$_ZN8pybind116detail19get_local_internalsEv[_ZN8pybind116detail19get_local_internalsEv]+0x127): undefined reference to `__imp_PyThread_tss_create'\n",
      "C:\\Users\\mawenjie\\AppData\\Local\\Temp\\cckn0wgB.o:simple_ml_ext.cpp:(.text$_ZN8pybind116detail19loader_life_supportD1Ev[_ZN8pybind116detail19loader_life_supportD1Ev]+0x15): undefined reference to `__imp_PyThread_tss_get'\n",
      "C:\\Users\\mawenjie\\AppData\\Local\\Temp\\cckn0wgB.o:simple_ml_ext.cpp:(.text$_ZN8pybind116detail19loader_life_supportD1Ev[_ZN8pybind116detail19loader_life_supportD1Ev]+0x33): undefined reference to `__imp_PyThread_tss_set'\n",
      "C:\\Users\\mawenjie\\AppData\\Local\\Temp\\cckn0wgB.o:simple_ml_ext.cpp:(.text$_ZN8pybind116detail19loader_life_supportD1Ev[_ZN8pybind116detail19loader_life_supportD1Ev]+0x3e): undefined reference to `__imp__Py_Dealloc'\n",
      "C:\\Users\\mawenjie\\AppData\\Local\\Temp\\cckn0wgB.o:simple_ml_ext.cpp:(.text$_ZZN8pybind1112cpp_function10initializeIZNS_6detail23all_type_info_get_cacheEP11_typeobjectEUlNS_6handleEE_vJS5_EJEEEvOT_PFT0_DpT1_EDpRKT2_ENKUlRNS2_13function_callEE1_clESJ_[_ZZN8pybind1112cpp_function10initializeIZNS_6detail23all_type_info_get_cacheEP11_typeobjectEUlNS_6handleEE_vJS5_EJEEEvOT_PFT0_DpT1_EDpRKT2_ENKUlRNS2_13function_callEE1_clESJ_]+0x73): undefined reference to `__imp__Py_NoneStruct'\n",
      "C:\\Users\\mawenjie\\AppData\\Local\\Temp\\cckn0wgB.o:simple_ml_ext.cpp:(.text$pybind11_meta_dealloc[pybind11_meta_dealloc]+0x72): undefined reference to `__imp_PyType_Type'\n",
      "C:\\Users\\mawenjie\\AppData\\Local\\Temp\\cckn0wgB.o:simple_ml_ext.cpp:(.text$_ZZN8pybind1112cpp_function10initializeIZNS_6detail23all_type_info_get_cacheEP11_typeobjectEUlNS_6handleEE_vJS5_EJEEEvOT_PFT0_DpT1_EDpRKT2_ENUlRNS2_13function_callEE1_4_FUNESJ_[_ZZN8pybind1112cpp_function10initializeIZNS_6detail23all_type_info_get_cacheEP11_typeobjectEUlNS_6handleEE_vJS5_EJEEEvOT_PFT0_DpT1_EDpRKT2_ENUlRNS2_13function_callEE1_4_FUNESJ_]+0x77): undefined reference to `__imp__Py_NoneStruct'\n",
      "C:\\Users\\mawenjie\\AppData\\Local\\Temp\\cckn0wgB.o:simple_ml_ext.cpp:(.text$_ZN8pybind1117error_already_set23m_fetched_error_deleterEPNS_6detail25error_fetch_and_normalizeE[_ZN8pybind1117error_already_set23m_fetched_error_deleterEPNS_6detail25error_fetch_and_normalizeE]+0x2d): undefined reference to `__imp_PyThread_tss_get'\n",
      "C:\\Users\\mawenjie\\AppData\\Local\\Temp\\cckn0wgB.o:simple_ml_ext.cpp:(.text$_ZN8pybind1117error_already_set23m_fetched_error_deleterEPNS_6detail25error_fetch_and_normalizeE[_ZN8pybind1117error_already_set23m_fetched_error_deleterEPNS_6detail25error_fetch_and_normalizeE]+0x41): undefined reference to `__imp__PyThreadState_UncheckedGet'\n",
      "C:\\Users\\mawenjie\\AppData\\Local\\Temp\\cckn0wgB.o:simple_ml_ext.cpp:(.text$_ZN8pybind1117error_already_set23m_fetched_error_deleterEPNS_6detail25error_fetch_and_normalizeE[_ZN8pybind1117error_already_set23m_fetched_error_deleterEPNS_6detail25error_fetch_and_normalizeE]+0x5a): undefined reference to `__imp_PyEval_AcquireThread'\n",
      "C:\\Users\\mawenjie\\AppData\\Local\\Temp\\cckn0wgB.o:simple_ml_ext.cpp:(.text$_ZN8pybind1117error_already_set23m_fetched_error_deleterEPNS_6detail25error_fetch_and_normalizeE[_ZN8pybind1117error_already_set23m_fetched_error_deleterEPNS_6detail25error_fetch_and_normalizeE]+0x79): undefined reference to `__imp_PyErr_Fetch'\n",
      "C:\\Users\\mawenjie\\AppData\\Local\\Temp\\cckn0wgB.o:simple_ml_ext.cpp:(.text$_ZN8pybind1117error_already_set23m_fetched_error_deleterEPNS_6detail25error_fetch_and_normalizeE[_ZN8pybind1117error_already_set23m_fetched_error_deleterEPNS_6detail25error_fetch_and_normalizeE]+0xc7): undefined reference to `__imp_PyErr_Restore'\n",
      "C:\\Users\\mawenjie\\AppData\\Local\\Temp\\cckn0wgB.o:simple_ml_ext.cpp:(.text$_ZN8pybind1117error_already_set23m_fetched_error_deleterEPNS_6detail25error_fetch_and_normalizeE[_ZN8pybind1117error_already_set23m_fetched_error_deleterEPNS_6detail25error_fetch_and_normalizeE]+0xd9): undefined reference to `__imp__PyThreadState_UncheckedGet'\n",
      "C:\\Users\\mawenjie\\AppData\\Local\\Temp\\cckn0wgB.o:simple_ml_ext.cpp:(.text$_ZN8pybind1117error_already_set23m_fetched_error_deleterEPNS_6detail25error_fetch_and_normalizeE[_ZN8pybind1117error_already_set23m_fetched_error_deleterEPNS_6detail25error_fetch_and_normalizeE]+0x10a): undefined reference to `__imp_PyThreadState_Clear'\n",
      "C:\\Users\\mawenjie\\AppData\\Local\\Temp\\cckn0wgB.o:simple_ml_ext.cpp:(.text$_ZN8pybind1117error_already_set23m_fetched_error_deleterEPNS_6detail25error_fetch_and_normalizeE[_ZN8pybind1117error_already_set23m_fetched_error_deleterEPNS_6detail25error_fetch_and_normalizeE]+0x125): undefined reference to `__imp_PyThread_tss_set'\n",
      "C:\\Users\\mawenjie\\AppData\\Local\\Temp\\cckn0wgB.o:simple_ml_ext.cpp:(.text$_ZN8pybind1117error_already_set23m_fetched_error_deleterEPNS_6detail25error_fetch_and_normalizeE[_ZN8pybind1117error_already_set23m_fetched_error_deleterEPNS_6detail25error_fetch_and_normalizeE]+0x137): undefined reference to `__imp_PyEval_SaveThread'\n",
      "C:\\Users\\mawenjie\\AppData\\Local\\Temp\\cckn0wgB.o:simple_ml_ext.cpp:(.text$_ZN8pybind1117error_already_set23m_fetched_error_deleterEPNS_6detail25error_fetch_and_normalizeE[_ZN8pybind1117error_already_set23m_fetched_error_deleterEPNS_6detail25error_fetch_and_normalizeE]+0x145): undefined reference to `__imp_PyThreadState_DeleteCurrent'\n",
      "C:\\Users\\mawenjie\\AppData\\Local\\Temp\\cckn0wgB.o:simple_ml_ext.cpp:(.text$_ZN8pybind1117error_already_set23m_fetched_error_deleterEPNS_6detail25error_fetch_and_normalizeE[_ZN8pybind1117error_already_set23m_fetched_error_deleterEPNS_6detail25error_fetch_and_normalizeE]+0x152): undefined reference to `__imp_PyGILState_GetThisThreadState'\n",
      "C:\\Users\\mawenjie\\AppData\\Local\\Temp\\cckn0wgB.o:simple_ml_ext.cpp:(.text$_ZN8pybind1117error_already_set23m_fetched_error_deleterEPNS_6detail25error_fetch_and_normalizeE[_ZN8pybind1117error_already_set23m_fetched_error_deleterEPNS_6detail25error_fetch_and_normalizeE]+0x16d): undefined reference to `__imp_PyThreadState_New'\n",
      "C:\\Users\\mawenjie\\AppData\\Local\\Temp\\cckn0wgB.o:simple_ml_ext.cpp:(.text$_ZN8pybind1117error_already_set23m_fetched_error_deleterEPNS_6detail25error_fetch_and_normalizeE[_ZN8pybind1117error_already_set23m_fetched_error_deleterEPNS_6detail25error_fetch_and_normalizeE]+0x191): undefined reference to `__imp_PyThread_tss_set'\n",
      "C:\\Users\\mawenjie\\AppData\\Local\\Temp\\cckn0wgB.o:simple_ml_ext.cpp:(.text$_ZN8pybind1117error_already_set23m_fetched_error_deleterEPNS_6detail25error_fetch_and_normalizeE[_ZN8pybind1117error_already_set23m_fetched_error_deleterEPNS_6detail25error_fetch_and_normalizeE]+0x1ea): undefined reference to `__imp_PyEval_SaveThread'\n",
      "C:\\Users\\mawenjie\\AppData\\Local\\Temp\\cckn0wgB.o:simple_ml_ext.cpp:(.text$_ZN8pybind113strC1ENS_6handleE[_ZN8pybind113strC1ENS_6handleE]+0xf): undefined reference to `__imp_PyObject_Str'\n",
      "C:\\Users\\mawenjie\\AppData\\Local\\Temp\\cckn0wgB.o:simple_ml_ext.cpp:(.text$_ZNK8pybind113strcvNSt7__cxx1112basic_stringIcSt11char_traitsIcESaIcEEEEv[_ZNK8pybind113strcvNSt7__cxx1112basic_stringIcSt11char_traitsIcESaIcEEEEv]+0x65): undefined reference to `__imp_PyBytes_AsStringAndSize'\n",
      "C:\\Users\\mawenjie\\AppData\\Local\\Temp\\cckn0wgB.o:simple_ml_ext.cpp:(.text$_ZNK8pybind113strcvNSt7__cxx1112basic_stringIcSt11char_traitsIcESaIcEEEEv[_ZNK8pybind113strcvNSt7__cxx1112basic_stringIcSt11char_traitsIcESaIcEEEEv]+0xa7): undefined reference to `__imp_PyUnicode_AsUTF8String'\n",
      "C:\\Users\\mawenjie\\AppData\\Local\\Temp\\cckn0wgB.o:simple_ml_ext.cpp:(.text$_ZN8pybind116detail9load_typeINSt7__cxx1112basic_stringIcSt11char_traitsIcESaIcEEEvEERNS0_11type_casterIT_T0_EESC_RKNS_6handleE[_ZN8pybind116detail9load_typeINSt7__cxx1112basic_stringIcSt11char_traitsIcESaIcEEEvEERNS0_11type_casterIT_T0_EESC_RKNS_6handleE]+0x53): undefined reference to `__imp_PyUnicode_AsUTF8AndSize'\n",
      "C:\\Users\\mawenjie\\AppData\\Local\\Temp\\cckn0wgB.o:simple_ml_ext.cpp:(.text$_ZN8pybind116detail9load_typeINSt7__cxx1112basic_stringIcSt11char_traitsIcESaIcEEEvEERNS0_11type_casterIT_T0_EESC_RKNS_6handleE[_ZN8pybind116detail9load_typeINSt7__cxx1112basic_stringIcSt11char_traitsIcESaIcEEEvEERNS0_11type_casterIT_T0_EESC_RKNS_6handleE]+0xd0): undefined reference to `__imp_PyByteArray_Type'\n",
      "C:\\Users\\mawenjie\\AppData\\Local\\Temp\\cckn0wgB.o:simple_ml_ext.cpp:(.text$_ZN8pybind116detail9load_typeINSt7__cxx1112basic_stringIcSt11char_traitsIcESaIcEEEvEERNS0_11type_casterIT_T0_EESC_RKNS_6handleE[_ZN8pybind116detail9load_typeINSt7__cxx1112basic_stringIcSt11char_traitsIcESaIcEEEvEERNS0_11type_casterIT_T0_EESC_RKNS_6handleE]+0xdb): undefined reference to `__imp_PyType_IsSubtype'\n",
      "C:\\Users\\mawenjie\\AppData\\Local\\Temp\\cckn0wgB.o:simple_ml_ext.cpp:(.text$_ZN8pybind116detail9load_typeINSt7__cxx1112basic_stringIcSt11char_traitsIcESaIcEEEvEERNS0_11type_casterIT_T0_EESC_RKNS_6handleE[_ZN8pybind116detail9load_typeINSt7__cxx1112basic_stringIcSt11char_traitsIcESaIcEEEvEERNS0_11type_casterIT_T0_EESC_RKNS_6handleE]+0xe8): undefined reference to `__imp_PyByteArray_AsString'\n",
      "C:\\Users\\mawenjie\\AppData\\Local\\Temp\\cckn0wgB.o:simple_ml_ext.cpp:(.text$_ZN8pybind116detail9load_typeINSt7__cxx1112basic_stringIcSt11char_traitsIcESaIcEEEvEERNS0_11type_casterIT_T0_EESC_RKNS_6handleE[_ZN8pybind116detail9load_typeINSt7__cxx1112basic_stringIcSt11char_traitsIcESaIcEEEvEERNS0_11type_casterIT_T0_EESC_RKNS_6handleE]+0xfd): undefined reference to `__imp_PyByteArray_Size'\n",
      "C:\\Users\\mawenjie\\AppData\\Local\\Temp\\cckn0wgB.o:simple_ml_ext.cpp:(.text$_ZN8pybind116detail9load_typeINSt7__cxx1112basic_stringIcSt11char_traitsIcESaIcEEEvEERNS0_11type_casterIT_T0_EESC_RKNS_6handleE[_ZN8pybind116detail9load_typeINSt7__cxx1112basic_stringIcSt11char_traitsIcESaIcEEEvEERNS0_11type_casterIT_T0_EESC_RKNS_6handleE]+0x152): undefined reference to `__imp_PyErr_Clear'\n",
      "C:\\Users\\mawenjie\\AppData\\Local\\Temp\\cckn0wgB.o:simple_ml_ext.cpp:(.text$_ZN8pybind116detail9load_typeINSt7__cxx1112basic_stringIcSt11char_traitsIcESaIcEEEvEERNS0_11type_casterIT_T0_EESC_RKNS_6handleE[_ZN8pybind116detail9load_typeINSt7__cxx1112basic_stringIcSt11char_traitsIcESaIcEEEvEERNS0_11type_casterIT_T0_EESC_RKNS_6handleE]+0x2b5): undefined reference to `__imp_PyBytes_AsString'\n",
      "C:\\Users\\mawenjie\\AppData\\Local\\Temp\\cckn0wgB.o:simple_ml_ext.cpp:(.text$_ZN8pybind116detail9load_typeINSt7__cxx1112basic_stringIcSt11char_traitsIcESaIcEEEvEERNS0_11type_casterIT_T0_EESC_RKNS_6handleE[_ZN8pybind116detail9load_typeINSt7__cxx1112basic_stringIcSt11char_traitsIcESaIcEEEvEERNS0_11type_casterIT_T0_EESC_RKNS_6handleE]+0x2c6): undefined reference to `__imp_PyBytes_Size'\n",
      "C:\\Users\\mawenjie\\AppData\\Local\\Temp\\cckn0wgB.o:simple_ml_ext.cpp:(.text$_ZNK8pybind116detail25error_fetch_and_normalize22format_value_and_traceB5cxx11Ev[_ZNK8pybind116detail25error_fetch_and_normalize22format_value_and_traceB5cxx11Ev]+0x62): undefined reference to `__imp_PyObject_Str'\n",
      "C:\\Users\\mawenjie\\AppData\\Local\\Temp\\cckn0wgB.o:simple_ml_ext.cpp:(.text$_ZNK8pybind116detail25error_fetch_and_normalize22format_value_and_traceB5cxx11Ev[_ZNK8pybind116detail25error_fetch_and_normalize22format_value_and_traceB5cxx11Ev]+0x87): undefined reference to `__imp_PyUnicode_AsEncodedString'\n",
      "C:\\Users\\mawenjie\\AppData\\Local\\Temp\\cckn0wgB.o:simple_ml_ext.cpp:(.text$_ZNK8pybind116detail25error_fetch_and_normalize22format_value_and_traceB5cxx11Ev[_ZNK8pybind116detail25error_fetch_and_normalize22format_value_and_traceB5cxx11Ev]+0xc0): undefined reference to `__imp_PyBytes_AsStringAndSize'\n",
      "C:\\Users\\mawenjie\\AppData\\Local\\Temp\\cckn0wgB.o:simple_ml_ext.cpp:(.text$_ZNK8pybind116detail25error_fetch_and_normalize22format_value_and_traceB5cxx11Ev[_ZNK8pybind116detail25error_fetch_and_normalize22format_value_and_traceB5cxx11Ev]+0x1cb): undefined reference to `__imp_PyFrame_GetLineNumber'\n",
      "C:\\Users\\mawenjie\\AppData\\Local\\Temp\\cckn0wgB.o:simple_ml_ext.cpp:(.text$_ZNK8pybind116detail25error_fetch_and_normalize22format_value_and_traceB5cxx11Ev[_ZNK8pybind116detail25error_fetch_and_normalize22format_value_and_traceB5cxx11Ev]+0x2ea): undefined reference to `__imp__Py_Dealloc'\n",
      "C:\\Users\\mawenjie\\AppData\\Local\\Temp\\cckn0wgB.o:simple_ml_ext.cpp:(.text$_ZNK8pybind116detail25error_fetch_and_normalize22format_value_and_traceB5cxx11Ev[_ZNK8pybind116detail25error_fetch_and_normalize22format_value_and_traceB5cxx11Ev]+0x3d6): undefined reference to `__imp__Py_Dealloc'\n",
      "C:\\Users\\mawenjie\\AppData\\Local\\Temp\\cckn0wgB.o:simple_ml_ext.cpp:(.text$_ZN8pybind116detail25error_fetch_and_normalize7restoreEv[_ZN8pybind116detail25error_fetch_and_normalize7restoreEv]+0x61): undefined reference to `__imp_PyErr_Restore'\n",
      "C:\\Users\\mawenjie\\AppData\\Local\\Temp\\cckn0wgB.o:simple_ml_ext.cpp:(.text$_ZN8pybind116detail19translate_exceptionENSt15__exception_ptr13exception_ptrE[_ZN8pybind116detail19translate_exceptionENSt15__exception_ptr13exception_ptrE]+0x68): undefined reference to `__imp_PyExc_RuntimeError'\n",
      "C:\\Users\\mawenjie\\AppData\\Local\\Temp\\cckn0wgB.o:simple_ml_ext.cpp:(.text$_ZN8pybind116detail19translate_exceptionENSt15__exception_ptr13exception_ptrE[_ZN8pybind116detail19translate_exceptionENSt15__exception_ptr13exception_ptrE]+0x95): undefined reference to `__imp_PyExc_RuntimeError'\n",
      "C:\\Users\\mawenjie\\AppData\\Local\\Temp\\cckn0wgB.o:simple_ml_ext.cpp:(.text$_ZN8pybind116detail19translate_exceptionENSt15__exception_ptr13exception_ptrE[_ZN8pybind116detail19translate_exceptionENSt15__exception_ptr13exception_ptrE]+0x10e): undefined reference to `__imp_PyExc_RuntimeError'\n",
      "C:\\Users\\mawenjie\\AppData\\Local\\Temp\\cckn0wgB.o:simple_ml_ext.cpp:(.text$_ZN8pybind116detail19translate_exceptionENSt15__exception_ptr13exception_ptrE[_ZN8pybind116detail19translate_exceptionENSt15__exception_ptr13exception_ptrE]+0x163): undefined reference to `__imp_PyExc_OverflowError'\n",
      "C:\\Users\\mawenjie\\AppData\\Local\\Temp\\cckn0wgB.o:simple_ml_ext.cpp:(.text$_ZN8pybind116detail19translate_exceptionENSt15__exception_ptr13exception_ptrE[_ZN8pybind116detail19translate_exceptionENSt15__exception_ptr13exception_ptrE]+0x1c2): undefined reference to `__imp_PyExc_ValueError'\n",
      "C:\\Users\\mawenjie\\AppData\\Local\\Temp\\cckn0wgB.o:simple_ml_ext.cpp:(.text$_ZN8pybind116detail19translate_exceptionENSt15__exception_ptr13exception_ptrE[_ZN8pybind116detail19translate_exceptionENSt15__exception_ptr13exception_ptrE]+0x217): undefined reference to `__imp_PyExc_ValueError'\n",
      "C:\\Users\\mawenjie\\AppData\\Local\\Temp\\cckn0wgB.o:simple_ml_ext.cpp:(.text$_ZN8pybind116detail19translate_exceptionENSt15__exception_ptr13exception_ptrE[_ZN8pybind116detail19translate_exceptionENSt15__exception_ptr13exception_ptrE]+0x26c): undefined reference to `__imp_PyExc_ValueError'\n",
      "C:\\Users\\mawenjie\\AppData\\Local\\Temp\\cckn0wgB.o:simple_ml_ext.cpp:(.text$_ZN8pybind116detail19translate_exceptionENSt15__exception_ptr13exception_ptrE[_ZN8pybind116detail19translate_exceptionENSt15__exception_ptr13exception_ptrE]+0x309): undefined reference to `__imp_PyExc_IndexError'\n",
      "C:\\Users\\mawenjie\\AppData\\Local\\Temp\\cckn0wgB.o:simple_ml_ext.cpp:(.text$_ZN8pybind116detail19translate_exceptionENSt15__exception_ptr13exception_ptrE[_ZN8pybind116detail19translate_exceptionENSt15__exception_ptr13exception_ptrE]+0x35e): undefined reference to `__imp_PyExc_MemoryError'\n",
      "C:\\Users\\mawenjie\\AppData\\Local\\Temp\\cckn0wgB.o:simple_ml_ext.cpp:(.text$_ZN8pybind116detail19translate_exceptionENSt15__exception_ptr13exception_ptrE[_ZN8pybind116detail19translate_exceptionENSt15__exception_ptr13exception_ptrE]+0x3b3): undefined reference to `__imp_PyExc_ValueError'\n",
      "C:\\Users\\mawenjie\\AppData\\Local\\Temp\\cckn0wgB.o:simple_ml_ext.cpp:(.text$_ZNK8pybind1117error_already_set4whatEv[_ZNK8pybind1117error_already_set4whatEv]+0x1e): undefined reference to `__imp_PyThread_tss_get'\n",
      "C:\\Users\\mawenjie\\AppData\\Local\\Temp\\cckn0wgB.o:simple_ml_ext.cpp:(.text$_ZNK8pybind1117error_already_set4whatEv[_ZNK8pybind1117error_already_set4whatEv]+0x31): undefined reference to `__imp__PyThreadState_UncheckedGet'\n",
      "C:\\Users\\mawenjie\\AppData\\Local\\Temp\\cckn0wgB.o:simple_ml_ext.cpp:(.text$_ZNK8pybind1117error_already_set4whatEv[_ZNK8pybind1117error_already_set4whatEv]+0x5f): undefined reference to `__imp_PyErr_Fetch'\n",
      "C:\\Users\\mawenjie\\AppData\\Local\\Temp\\cckn0wgB.o:simple_ml_ext.cpp:(.text$_ZNK8pybind1117error_already_set4whatEv[_ZNK8pybind1117error_already_set4whatEv]+0x80): undefined reference to `__imp_PyErr_Restore'\n",
      "C:\\Users\\mawenjie\\AppData\\Local\\Temp\\cckn0wgB.o:simple_ml_ext.cpp:(.text$_ZNK8pybind1117error_already_set4whatEv[_ZNK8pybind1117error_already_set4whatEv]+0xb4): undefined reference to `__imp_PyThreadState_Clear'\n",
      "C:\\Users\\mawenjie\\AppData\\Local\\Temp\\cckn0wgB.o:simple_ml_ext.cpp:(.text$_ZNK8pybind1117error_already_set4whatEv[_ZNK8pybind1117error_already_set4whatEv]+0xba): undefined reference to `__imp_PyThreadState_DeleteCurrent'\n",
      "C:\\Users\\mawenjie\\AppData\\Local\\Temp\\cckn0wgB.o:simple_ml_ext.cpp:(.text$_ZNK8pybind1117error_already_set4whatEv[_ZNK8pybind1117error_already_set4whatEv]+0xce): undefined reference to `__imp_PyThread_tss_set'\n",
      "C:\\Users\\mawenjie\\AppData\\Local\\Temp\\cckn0wgB.o:simple_ml_ext.cpp:(.text$_ZNK8pybind1117error_already_set4whatEv[_ZNK8pybind1117error_already_set4whatEv]+0xe7): undefined reference to `__imp_PyEval_SaveThread'\n",
      "C:\\Users\\mawenjie\\AppData\\Local\\Temp\\cckn0wgB.o:simple_ml_ext.cpp:(.text$_ZNK8pybind1117error_already_set4whatEv[_ZNK8pybind1117error_already_set4whatEv]+0x102): undefined reference to `__imp_PyGILState_GetThisThreadState'\n",
      "C:\\Users\\mawenjie\\AppData\\Local\\Temp\\cckn0wgB.o:simple_ml_ext.cpp:(.text$_ZNK8pybind1117error_already_set4whatEv[_ZNK8pybind1117error_already_set4whatEv]+0x11b): undefined reference to `__imp_PyThreadState_New'\n",
      "C:\\Users\\mawenjie\\AppData\\Local\\Temp\\cckn0wgB.o:simple_ml_ext.cpp:(.text$_ZNK8pybind1117error_already_set4whatEv[_ZNK8pybind1117error_already_set4whatEv]+0x143): undefined reference to `__imp_PyThread_tss_set'\n",
      "C:\\Users\\mawenjie\\AppData\\Local\\Temp\\cckn0wgB.o:simple_ml_ext.cpp:(.text$_ZNK8pybind1117error_already_set4whatEv[_ZNK8pybind1117error_already_set4whatEv]+0x14a): undefined reference to `__imp__PyThreadState_UncheckedGet'\n",
      "C:\\Users\\mawenjie\\AppData\\Local\\Temp\\cckn0wgB.o:simple_ml_ext.cpp:(.text$_ZNK8pybind1117error_already_set4whatEv[_ZNK8pybind1117error_already_set4whatEv]+0x158): undefined reference to `__imp_PyEval_AcquireThread'\n",
      "C:\\Users\\mawenjie\\AppData\\Local\\Temp\\cckn0wgB.o:simple_ml_ext.cpp:(.text$_ZN8pybind116detail25error_fetch_and_normalizeC1EPKc[_ZN8pybind116detail25error_fetch_and_normalizeC1EPKc]+0x60): undefined reference to `__imp_PyErr_Fetch'\n",
      "C:\\Users\\mawenjie\\AppData\\Local\\Temp\\cckn0wgB.o:simple_ml_ext.cpp:(.text$_ZN8pybind116detail25error_fetch_and_normalizeC1EPKc[_ZN8pybind116detail25error_fetch_and_normalizeC1EPKc]+0xba): undefined reference to `__imp_PyErr_NormalizeException'\n",
      "C:\\Users\\mawenjie\\AppData\\Local\\Temp\\cckn0wgB.o:simple_ml_ext.cpp:(.text$_ZN8pybind116detail12error_stringB5cxx11Ev[_ZN8pybind116detail12error_stringB5cxx11Ev]+0x92): undefined reference to `__imp__Py_Dealloc'\n",
      "C:\\Users\\mawenjie\\AppData\\Local\\Temp\\cckn0wgB.o:simple_ml_ext.cpp:(.text$_ZN8pybind116detail12error_stringB5cxx11Ev[_ZN8pybind116detail12error_stringB5cxx11Ev]+0xa2): undefined reference to `__imp__Py_Dealloc'\n",
      "C:\\Users\\mawenjie\\AppData\\Local\\Temp\\cckn0wgB.o:simple_ml_ext.cpp:(.text$_ZN8pybind116detail12error_stringB5cxx11Ev[_ZN8pybind116detail12error_stringB5cxx11Ev]+0xb2): undefined reference to `__imp__Py_Dealloc'\n",
      "C:\\Users\\mawenjie\\AppData\\Local\\Temp\\cckn0wgB.o:simple_ml_ext.cpp:(.text$_ZN8pybind113strC1EPKc[_ZN8pybind113strC1EPKc]+0xf): undefined reference to `__imp_PyUnicode_FromString'\n",
      "C:\\Users\\mawenjie\\AppData\\Local\\Temp\\cckn0wgB.o:simple_ml_ext.cpp:(.text$_ZN8pybind113strC1EPKc[_ZN8pybind113strC1EPKc]+0x25): undefined reference to `__imp_PyErr_Occurred'\n",
      "C:\\Users\\mawenjie\\AppData\\Local\\Temp\\cckn0wgB.o:simple_ml_ext.cpp:(.text$_ZNK8pybind116detail8accessorINS0_17accessor_policies8str_attrEE9get_cacheEv[_ZNK8pybind116detail8accessorINS0_17accessor_policies8str_attrEE9get_cacheEv]+0x2a): undefined reference to `__imp_PyObject_GetAttrString'\n",
      "C:\\Users\\mawenjie\\AppData\\Local\\Temp\\cckn0wgB.o:simple_ml_ext.cpp:(.text$_ZNK8pybind117capsule4nameEv[_ZNK8pybind117capsule4nameEv]+0xb): undefined reference to `__imp_PyCapsule_GetName'\n",
      "C:\\Users\\mawenjie\\AppData\\Local\\Temp\\cckn0wgB.o:simple_ml_ext.cpp:(.text$_ZNK8pybind117capsule4nameEv[_ZNK8pybind117capsule4nameEv]+0x23): undefined reference to `__imp_PyErr_Occurred'\n",
      "C:\\Users\\mawenjie\\AppData\\Local\\Temp\\cckn0wgB.o:simple_ml_ext.cpp:(.text$_ZN8pybind116detail21make_object_base_typeEP11_typeobject[_ZN8pybind116detail21make_object_base_typeEP11_typeobject]+0x13): undefined reference to `__imp_PyUnicode_FromString'\n",
      "C:\\Users\\mawenjie\\AppData\\Local\\Temp\\cckn0wgB.o:simple_ml_ext.cpp:(.text$_ZN8pybind116detail21make_object_base_typeEP11_typeobject[_ZN8pybind116detail21make_object_base_typeEP11_typeobject]+0x7b): undefined reference to `__imp_PyBaseObject_Type'\n",
      "C:\\Users\\mawenjie\\AppData\\Local\\Temp\\cckn0wgB.o:simple_ml_ext.cpp:(.text$_ZN8pybind116detail21make_object_base_typeEP11_typeobject[_ZN8pybind116detail21make_object_base_typeEP11_typeobject]+0xd7): undefined reference to `__imp_PyType_Ready'\n",
      "C:\\Users\\mawenjie\\AppData\\Local\\Temp\\cckn0wgB.o:simple_ml_ext.cpp:(.text$_ZN8pybind116detail21make_object_base_typeEP11_typeobject[_ZN8pybind116detail21make_object_base_typeEP11_typeobject]+0x108): undefined reference to `__imp_PyObject_SetAttrString'\n",
      "C:\\Users\\mawenjie\\AppData\\Local\\Temp\\cckn0wgB.o:simple_ml_ext.cpp:(.text$_ZN8pybind116detail18dict_getitemstringEP7_objectPKc[_ZN8pybind116detail18dict_getitemstringEP7_objectPKc]+0xe): undefined reference to `__imp_PyUnicode_FromString'\n",
      "C:\\Users\\mawenjie\\AppData\\Local\\Temp\\cckn0wgB.o:simple_ml_ext.cpp:(.text$_ZN8pybind116detail18dict_getitemstringEP7_objectPKc[_ZN8pybind116detail18dict_getitemstringEP7_objectPKc]+0x22): undefined reference to `__imp_PyDict_GetItemWithError'\n",
      "C:\\Users\\mawenjie\\AppData\\Local\\Temp\\cckn0wgB.o:simple_ml_ext.cpp:(.text$_ZN8pybind116detail18dict_getitemstringEP7_objectPKc[_ZN8pybind116detail18dict_getitemstringEP7_objectPKc]+0x45): undefined reference to `__imp__Py_Dealloc'\n",
      "C:\\Users\\mawenjie\\AppData\\Local\\Temp\\cckn0wgB.o:simple_ml_ext.cpp:(.text$_ZN8pybind116detail18dict_getitemstringEP7_objectPKc[_ZN8pybind116detail18dict_getitemstringEP7_objectPKc]+0x50): undefined reference to `__imp_PyErr_Occurred'\n",
      "C:\\Users\\mawenjie\\AppData\\Local\\Temp\\cckn0wgB.o:simple_ml_ext.cpp:(.text$_ZZN8pybind117capsuleC4EPKvPFvPvEENKUlP7_objectE_clES7_[_ZZN8pybind117capsuleC4EPKvPFvPvEENKUlP7_objectE_clES7_]+0xb): undefined reference to `__imp_PyErr_Fetch'\n",
      "C:\\Users\\mawenjie\\AppData\\Local\\Temp\\cckn0wgB.o:simple_ml_ext.cpp:(.text$_ZZN8pybind117capsuleC4EPKvPFvPvEENKUlP7_objectE_clES7_[_ZZN8pybind117capsuleC4EPKvPFvPvEENKUlP7_objectE_clES7_]+0x27): undefined reference to `__imp_PyErr_Restore'\n",
      "C:\\Users\\mawenjie\\AppData\\Local\\Temp\\cckn0wgB.o:simple_ml_ext.cpp:(.text$_ZZN8pybind117capsuleC4EPKvPFvPvEENKUlP7_objectE_clES7_[_ZZN8pybind117capsuleC4EPKvPFvPvEENKUlP7_objectE_clES7_]+0x2d): undefined reference to `__imp_PyCapsule_GetContext'\n",
      "C:\\Users\\mawenjie\\AppData\\Local\\Temp\\cckn0wgB.o:simple_ml_ext.cpp:(.text$_ZZN8pybind117capsuleC4EPKvPFvPvEENKUlP7_objectE_clES7_[_ZZN8pybind117capsuleC4EPKvPFvPvEENKUlP7_objectE_clES7_]+0x45): undefined reference to `__imp_PyErr_Restore'\n",
      "C:\\Users\\mawenjie\\AppData\\Local\\Temp\\cckn0wgB.o:simple_ml_ext.cpp:(.text$_ZZN8pybind117capsuleC4EPKvPFvPvEENKUlP7_objectE_clES7_[_ZZN8pybind117capsuleC4EPKvPFvPvEENKUlP7_objectE_clES7_]+0x58): undefined reference to `__imp_PyCapsule_GetName'\n",
      "C:\\Users\\mawenjie\\AppData\\Local\\Temp\\cckn0wgB.o:simple_ml_ext.cpp:(.text$_ZZN8pybind117capsuleC4EPKvPFvPvEENKUlP7_objectE_clES7_[_ZZN8pybind117capsuleC4EPKvPFvPvEENKUlP7_objectE_clES7_]+0x76): undefined reference to `__imp_PyErr_Restore'\n",
      "C:\\Users\\mawenjie\\AppData\\Local\\Temp\\cckn0wgB.o:simple_ml_ext.cpp:(.text$_ZZN8pybind117capsuleC4EPKvPFvPvEENKUlP7_objectE_clES7_[_ZZN8pybind117capsuleC4EPKvPFvPvEENKUlP7_objectE_clES7_]+0x84): undefined reference to `__imp_PyCapsule_GetPointer'\n",
      "C:\\Users\\mawenjie\\AppData\\Local\\Temp\\cckn0wgB.o:simple_ml_ext.cpp:(.text$_ZZN8pybind117capsuleC4EPKvPFvPvEENKUlP7_objectE_clES7_[_ZZN8pybind117capsuleC4EPKvPFvPvEENKUlP7_objectE_clES7_]+0xc2): undefined reference to `__imp_PyErr_Occurred'\n",
      "C:\\Users\\mawenjie\\AppData\\Local\\Temp\\cckn0wgB.o:simple_ml_ext.cpp:(.text$_ZZN8pybind117capsuleC4EPKvPFvPvEENKUlP7_objectE_clES7_[_ZZN8pybind117capsuleC4EPKvPFvPvEENKUlP7_objectE_clES7_]+0xd0): undefined reference to `__imp_PyErr_WriteUnraisable'\n",
      "C:\\Users\\mawenjie\\AppData\\Local\\Temp\\cckn0wgB.o:simple_ml_ext.cpp:(.text$_ZZN8pybind117capsuleC4EPKvPFvPvEENKUlP7_objectE_clES7_[_ZZN8pybind117capsuleC4EPKvPFvPvEENKUlP7_objectE_clES7_]+0xe3): undefined reference to `__imp_PyErr_Restore'\n",
      "C:\\Users\\mawenjie\\AppData\\Local\\Temp\\cckn0wgB.o:simple_ml_ext.cpp:(.text$_ZZN8pybind117capsuleC4EPKvPFvPvEENKUlP7_objectE_clES7_[_ZZN8pybind117capsuleC4EPKvPFvPvEENKUlP7_objectE_clES7_]+0xe9): undefined reference to `__imp_PyErr_Occurred'\n",
      "C:\\Users\\mawenjie\\AppData\\Local\\Temp\\cckn0wgB.o:simple_ml_ext.cpp:(.text$_ZZN8pybind117capsuleC4EPKvPFvPvEENKUlP7_objectE_clES7_[_ZZN8pybind117capsuleC4EPKvPFvPvEENKUlP7_objectE_clES7_]+0x118): undefined reference to `__imp_PyErr_Restore'\n",
      "C:\\Users\\mawenjie\\AppData\\Local\\Temp\\cckn0wgB.o:simple_ml_ext.cpp:(.text$_ZZN8pybind117capsuleC4EPKvPFvPvEENKUlP7_objectE_clES7_[_ZZN8pybind117capsuleC4EPKvPFvPvEENKUlP7_objectE_clES7_]+0x17d): undefined reference to `__imp_PyErr_Restore'\n",
      "C:\\Users\\mawenjie\\AppData\\Local\\Temp\\cckn0wgB.o:simple_ml_ext.cpp:(.text$_ZZN8pybind117capsuleC4EPKvPFvPvEENKUlP7_objectE_clES7_[_ZZN8pybind117capsuleC4EPKvPFvPvEENKUlP7_objectE_clES7_]+0x198): undefined reference to `__imp_PyErr_Restore'\n",
      "C:\\Users\\mawenjie\\AppData\\Local\\Temp\\cckn0wgB.o:simple_ml_ext.cpp:(.text$_ZN8pybind116detail7npy_api3getEv[_ZN8pybind116detail7npy_api3getEv]+0x39): undefined reference to `__imp_PyImport_ImportModule'\n",
      "C:\\Users\\mawenjie\\AppData\\Local\\Temp\\cckn0wgB.o:simple_ml_ext.cpp:(.text$_ZN8pybind116detail7npy_api3getEv[_ZN8pybind116detail7npy_api3getEv]+0x79): undefined reference to `__imp_PyCapsule_GetPointer'\n",
      "C:\\Users\\mawenjie\\AppData\\Local\\Temp\\cckn0wgB.o:simple_ml_ext.cpp:(.text$_ZN8pybind115arrayC1ERKNS_5dtypeENS_6detail13any_containerIxEES6_PKvNS_6handleE[_ZN8pybind115arrayC1ERKNS_5dtypeENS_6detail13any_containerIxEES6_PKvNS_6handleE]+0x164): undefined reference to `__imp_PyType_IsSubtype'\n",
      "C:\\Users\\mawenjie\\AppData\\Local\\Temp\\cckn0wgB.o:simple_ml_ext.cpp:(.text$_ZNK8pybind116buffer7requestEb[_ZNK8pybind116buffer7requestEb]+0x4b): undefined reference to `__imp_PyObject_GetBuffer'\n",
      "C:\\Users\\mawenjie\\AppData\\Local\\Temp\\cckn0wgB.o:simple_ml_ext.cpp:(.text$_ZN8pybind113strC1INS_6detail17accessor_policies8str_attrEEERKNS2_8accessorIT_EE[_ZN8pybind113strC1INS_6detail17accessor_policies8str_attrEEERKNS2_8accessorIT_EE]+0x48): undefined reference to `__imp_PyObject_Str'\n",
      "C:\\Users\\mawenjie\\AppData\\Local\\Temp\\cckn0wgB.o:simple_ml_ext.cpp:(.text$_ZN8pybind113strC1INS_6detail17accessor_policies8str_attrEEERKNS2_8accessorIT_EE[_ZN8pybind113strC1INS_6detail17accessor_policies8str_attrEEERKNS2_8accessorIT_EE]+0x82): undefined reference to `__imp__Py_Dealloc'\n",
      "C:\\Users\\mawenjie\\AppData\\Local\\Temp\\cckn0wgB.o:simple_ml_ext.cpp:(.text$_ZN8pybind113strC1INS_6detail17accessor_policies8str_attrEEERKNS2_8accessorIT_EE[_ZN8pybind113strC1INS_6detail17accessor_policies8str_attrEEERKNS2_8accessorIT_EE]+0x9a): undefined reference to `__imp_PyObject_GetAttrString'\n",
      "C:\\Users\\mawenjie\\AppData\\Local\\Temp\\cckn0wgB.o:simple_ml_ext.cpp:(.text$_ZNK8pybind116detail8accessorINS0_17accessor_policies8str_attrEEcvNS_6objectEEv[_ZNK8pybind116detail8accessorINS0_17accessor_policies8str_attrEEcvNS_6objectEEv]+0x4a): undefined reference to `__imp_PyObject_GetAttrString'\n",
      "C:\\Users\\mawenjie\\AppData\\Local\\Temp\\cckn0wgB.o:simple_ml_ext.cpp:(.text$_ZN8pybind1112cpp_function18initialize_genericEOSt10unique_ptrINS_6detail15function_recordENS0_33InitializingFunctionRecordDeleterEEPKcPKPKSt9type_infoy[_ZN8pybind1112cpp_function18initialize_genericEOSt10unique_ptrINS_6detail15function_recordENS0_33InitializingFunctionRecordDeleterEEPKcPKPKSt9type_infoy]+0xe2): undefined reference to `__imp_PyObject_Repr'\n",
      "C:\\Users\\mawenjie\\AppData\\Local\\Temp\\cckn0wgB.o:simple_ml_ext.cpp:(.text$_ZN8pybind1112cpp_function18initialize_genericEOSt10unique_ptrINS_6detail15function_recordENS0_33InitializingFunctionRecordDeleterEEPKcPKPKSt9type_infoy[_ZN8pybind1112cpp_function18initialize_genericEOSt10unique_ptrINS_6detail15function_recordENS0_33InitializingFunctionRecordDeleterEEPKcPKPKSt9type_infoy]+0x5cd): undefined reference to `__imp_PyInstanceMethod_Type'\n",
      "C:\\Users\\mawenjie\\AppData\\Local\\Temp\\cckn0wgB.o:simple_ml_ext.cpp:(.text$_ZN8pybind1112cpp_function18initialize_genericEOSt10unique_ptrINS_6detail15function_recordENS0_33InitializingFunctionRecordDeleterEEPKcPKPKSt9type_infoy[_ZN8pybind1112cpp_function18initialize_genericEOSt10unique_ptrINS_6detail15function_recordENS0_33InitializingFunctionRecordDeleterEEPKcPKPKSt9type_infoy]+0x5da): undefined reference to `__imp_PyCFunction_Type'\n",
      "C:\\Users\\mawenjie\\AppData\\Local\\Temp\\cckn0wgB.o:simple_ml_ext.cpp:(.text$_ZN8pybind1112cpp_function18initialize_genericEOSt10unique_ptrINS_6detail15function_recordENS0_33InitializingFunctionRecordDeleterEEPKcPKPKSt9type_infoy[_ZN8pybind1112cpp_function18initialize_genericEOSt10unique_ptrINS_6detail15function_recordENS0_33InitializingFunctionRecordDeleterEEPKcPKPKSt9type_infoy]+0x5e7): undefined reference to `__imp__Py_NoneStruct'\n",
      "C:\\Users\\mawenjie\\AppData\\Local\\Temp\\cckn0wgB.o:simple_ml_ext.cpp:(.text$_ZN8pybind1112cpp_function18initialize_genericEOSt10unique_ptrINS_6detail15function_recordENS0_33InitializingFunctionRecordDeleterEEPKcPKPKSt9type_infoy[_ZN8pybind1112cpp_function18initialize_genericEOSt10unique_ptrINS_6detail15function_recordENS0_33InitializingFunctionRecordDeleterEEPKcPKPKSt9type_infoy]+0x66b): undefined reference to `__imp_PyCapsule_New'\n",
      "C:\\Users\\mawenjie\\AppData\\Local\\Temp\\cckn0wgB.o:simple_ml_ext.cpp:(.text$_ZN8pybind1112cpp_function18initialize_genericEOSt10unique_ptrINS_6detail15function_recordENS0_33InitializingFunctionRecordDeleterEEPKcPKPKSt9type_infoy[_ZN8pybind1112cpp_function18initialize_genericEOSt10unique_ptrINS_6detail15function_recordENS0_33InitializingFunctionRecordDeleterEEPKcPKPKSt9type_infoy]+0x68c): undefined reference to `__imp_PyCapsule_SetContext'\n",
      "C:\\Users\\mawenjie\\AppData\\Local\\Temp\\cckn0wgB.o:simple_ml_ext.cpp:(.text$_ZN8pybind1112cpp_function18initialize_genericEOSt10unique_ptrINS_6detail15function_recordENS0_33InitializingFunctionRecordDeleterEEPKcPKPKSt9type_infoy[_ZN8pybind1112cpp_function18initialize_genericEOSt10unique_ptrINS_6detail15function_recordENS0_33InitializingFunctionRecordDeleterEEPKcPKPKSt9type_infoy]+0x6a4): undefined reference to `__imp_PyCapsule_SetName'\n",
      "C:\\Users\\mawenjie\\AppData\\Local\\Temp\\cckn0wgB.o:simple_ml_ext.cpp:(.text$_ZN8pybind1112cpp_function18initialize_genericEOSt10unique_ptrINS_6detail15function_recordENS0_33InitializingFunctionRecordDeleterEEPKcPKPKSt9type_infoy[_ZN8pybind1112cpp_function18initialize_genericEOSt10unique_ptrINS_6detail15function_recordENS0_33InitializingFunctionRecordDeleterEEPKcPKPKSt9type_infoy]+0x6e3): undefined reference to `__imp_PyObject_HasAttrString'\n",
      "C:\\Users\\mawenjie\\AppData\\Local\\Temp\\cckn0wgB.o:simple_ml_ext.cpp:(.text$_ZN8pybind1112cpp_function18initialize_genericEOSt10unique_ptrINS_6detail15function_recordENS0_33InitializingFunctionRecordDeleterEEPKcPKPKSt9type_infoy[_ZN8pybind1112cpp_function18initialize_genericEOSt10unique_ptrINS_6detail15function_recordENS0_33InitializingFunctionRecordDeleterEEPKcPKPKSt9type_infoy]+0x71e): undefined reference to `__imp_PyCFunction_NewEx'\n",
      "C:\\Users\\mawenjie\\AppData\\Local\\Temp\\cckn0wgB.o:simple_ml_ext.cpp:(.text$_ZN8pybind1112cpp_function18initialize_genericEOSt10unique_ptrINS_6detail15function_recordENS0_33InitializingFunctionRecordDeleterEEPKcPKPKSt9type_infoy[_ZN8pybind1112cpp_function18initialize_genericEOSt10unique_ptrINS_6detail15function_recordENS0_33InitializingFunctionRecordDeleterEEPKcPKPKSt9type_infoy]+0xc28): undefined reference to `__imp_PyCFunction_Type'\n",
      "C:\\Users\\mawenjie\\AppData\\Local\\Temp\\cckn0wgB.o:simple_ml_ext.cpp:(.text$_ZN8pybind1112cpp_function18initialize_genericEOSt10unique_ptrINS_6detail15function_recordENS0_33InitializingFunctionRecordDeleterEEPKcPKPKSt9type_infoy[_ZN8pybind1112cpp_function18initialize_genericEOSt10unique_ptrINS_6detail15function_recordENS0_33InitializingFunctionRecordDeleterEEPKcPKPKSt9type_infoy]+0xc50): undefined reference to `__imp_PyCapsule_Type'\n",
      "C:\\Users\\mawenjie\\AppData\\Local\\Temp\\cckn0wgB.o:simple_ml_ext.cpp:(.text$_ZN8pybind1112cpp_function18initialize_genericEOSt10unique_ptrINS_6detail15function_recordENS0_33InitializingFunctionRecordDeleterEEPKcPKPKSt9type_infoy[_ZN8pybind1112cpp_function18initialize_genericEOSt10unique_ptrINS_6detail15function_recordENS0_33InitializingFunctionRecordDeleterEEPKcPKPKSt9type_infoy]+0xdbd): undefined reference to `__imp_PyInstanceMethod_New'\n",
      "C:\\Users\\mawenjie\\AppData\\Local\\Temp\\cckn0wgB.o:simple_ml_ext.cpp:(.text$_ZN8pybind1112cpp_function18initialize_genericEOSt10unique_ptrINS_6detail15function_recordENS0_33InitializingFunctionRecordDeleterEEPKcPKPKSt9type_infoy[_ZN8pybind1112cpp_function18initialize_genericEOSt10unique_ptrINS_6detail15function_recordENS0_33InitializingFunctionRecordDeleterEEPKcPKPKSt9type_infoy]+0xde4): undefined reference to `__imp__Py_Dealloc'\n",
      "C:\\Users\\mawenjie\\AppData\\Local\\Temp\\cckn0wgB.o:simple_ml_ext.cpp:(.text$_ZN8pybind1112cpp_function18initialize_genericEOSt10unique_ptrINS_6detail15function_recordENS0_33InitializingFunctionRecordDeleterEEPKcPKPKSt9type_infoy[_ZN8pybind1112cpp_function18initialize_genericEOSt10unique_ptrINS_6detail15function_recordENS0_33InitializingFunctionRecordDeleterEEPKcPKPKSt9type_infoy]+0x1093): undefined reference to `__imp_PyExc_FutureWarning'\n",
      "C:\\Users\\mawenjie\\AppData\\Local\\Temp\\cckn0wgB.o:simple_ml_ext.cpp:(.text$_ZN8pybind1112cpp_function18initialize_genericEOSt10unique_ptrINS_6detail15function_recordENS0_33InitializingFunctionRecordDeleterEEPKcPKPKSt9type_infoy[_ZN8pybind1112cpp_function18initialize_genericEOSt10unique_ptrINS_6detail15function_recordENS0_33InitializingFunctionRecordDeleterEEPKcPKPKSt9type_infoy]+0x10a7): undefined reference to `__imp_PyErr_WarnEx'\n",
      "C:\\Users\\mawenjie\\AppData\\Local\\Temp\\cckn0wgB.o:simple_ml_ext.cpp:(.text$_ZN8pybind1112cpp_function18initialize_genericEOSt10unique_ptrINS_6detail15function_recordENS0_33InitializingFunctionRecordDeleterEEPKcPKPKSt9type_infoy[_ZN8pybind1112cpp_function18initialize_genericEOSt10unique_ptrINS_6detail15function_recordENS0_33InitializingFunctionRecordDeleterEEPKcPKPKSt9type_infoy]+0x122e): undefined reference to `__imp_PyCapsule_GetPointer'\n",
      "C:\\Users\\mawenjie\\AppData\\Local\\Temp\\cckn0wgB.o:simple_ml_ext.cpp:(.text$_ZN8pybind1112cpp_function18initialize_genericEOSt10unique_ptrINS_6detail15function_recordENS0_33InitializingFunctionRecordDeleterEEPKcPKPKSt9type_infoy[_ZN8pybind1112cpp_function18initialize_genericEOSt10unique_ptrINS_6detail15function_recordENS0_33InitializingFunctionRecordDeleterEEPKcPKPKSt9type_infoy]+0x12bd): undefined reference to `__imp_PyCapsule_SetPointer'\n",
      "C:\\Users\\mawenjie\\AppData\\Local\\Temp\\cckn0wgB.o:simple_ml_ext.cpp:(.text$_ZN8pybind116detail13all_type_infoEP11_typeobject[_ZN8pybind116detail13all_type_infoEP11_typeobject]+0x1a7): undefined reference to `__imp_PyWeakref_NewRef'\n",
      "C:\\Users\\mawenjie\\AppData\\Local\\Temp\\cckn0wgB.o:simple_ml_ext.cpp:(.text$_ZN8pybind116detail13all_type_infoEP11_typeobject[_ZN8pybind116detail13all_type_infoEP11_typeobject]+0x1e2): undefined reference to `__imp_PyErr_Occurred'\n",
      "C:\\Users\\mawenjie\\AppData\\Local\\Temp\\cckn0wgB.o:simple_ml_ext.cpp:(.text$pybind11_meta_call[pybind11_meta_call]+0x9): undefined reference to `__imp_PyType_Type'\n",
      "C:\\Users\\mawenjie\\AppData\\Local\\Temp\\cckn0wgB.o:simple_ml_ext.cpp:(.text$pybind11_meta_call[pybind11_meta_call]+0x92): undefined reference to `__imp_PyExc_TypeError'\n",
      "C:\\Users\\mawenjie\\AppData\\Local\\Temp\\cckn0wgB.o:simple_ml_ext.cpp:(.text$pybind11_meta_call[pybind11_meta_call]+0xa7): undefined reference to `__imp_PyErr_Format'\n",
      "C:\\Users\\mawenjie\\AppData\\Local\\Temp\\cckn0wgB.o:simple_ml_ext.cpp:(.text$pybind11_meta_call[pybind11_meta_call]+0x117): undefined reference to `__imp__Py_Dealloc'\n",
      "C:\\Users\\mawenjie\\AppData\\Local\\Temp\\cckn0wgB.o:simple_ml_ext.cpp:(.text$_ZN8pybind1112cpp_function10dispatcherEP7_objectS2_S2_[_ZN8pybind1112cpp_function10dispatcherEP7_objectS2_S2_]+0x29): undefined reference to `__imp_PyCapsule_Type'\n",
      "C:\\Users\\mawenjie\\AppData\\Local\\Temp\\cckn0wgB.o:simple_ml_ext.cpp:(.text$_ZN8pybind1112cpp_function10dispatcherEP7_objectS2_S2_[_ZN8pybind1112cpp_function10dispatcherEP7_objectS2_S2_]+0x53): undefined reference to `__imp_PyCapsule_GetPointer'\n",
      "C:\\Users\\mawenjie\\AppData\\Local\\Temp\\cckn0wgB.o:simple_ml_ext.cpp:(.text$_ZN8pybind1112cpp_function10dispatcherEP7_objectS2_S2_[_ZN8pybind1112cpp_function10dispatcherEP7_objectS2_S2_]+0x139): undefined reference to `__imp_PyUnicode_FromString'\n",
      "C:\\Users\\mawenjie\\AppData\\Local\\Temp\\cckn0wgB.o:simple_ml_ext.cpp:(.text$_ZN8pybind1112cpp_function10dispatcherEP7_objectS2_S2_[_ZN8pybind1112cpp_function10dispatcherEP7_objectS2_S2_]+0x156): undefined reference to `__imp_PyDict_GetItemWithError'\n",
      "C:\\Users\\mawenjie\\AppData\\Local\\Temp\\cckn0wgB.o:simple_ml_ext.cpp:(.text$_ZN8pybind1112cpp_function10dispatcherEP7_objectS2_S2_[_ZN8pybind1112cpp_function10dispatcherEP7_objectS2_S2_]+0x50a): undefined reference to `__imp_PyDict_Size'\n",
      "C:\\Users\\mawenjie\\AppData\\Local\\Temp\\cckn0wgB.o:simple_ml_ext.cpp:(.text$_ZN8pybind1112cpp_function10dispatcherEP7_objectS2_S2_[_ZN8pybind1112cpp_function10dispatcherEP7_objectS2_S2_]+0x74f): undefined reference to `__imp_PyThread_tss_get'\n",
      "C:\\Users\\mawenjie\\AppData\\Local\\Temp\\cckn0wgB.o:simple_ml_ext.cpp:(.text$_ZN8pybind1112cpp_function10dispatcherEP7_objectS2_S2_[_ZN8pybind1112cpp_function10dispatcherEP7_objectS2_S2_]+0x7c1): undefined reference to `__imp_PyThread_tss_set'\n",
      "C:\\Users\\mawenjie\\AppData\\Local\\Temp\\cckn0wgB.o:simple_ml_ext.cpp:(.text$_ZN8pybind1112cpp_function10dispatcherEP7_objectS2_S2_[_ZN8pybind1112cpp_function10dispatcherEP7_objectS2_S2_]+0x982): undefined reference to `__imp_PyExc_TypeError'\n",
      "C:\\Users\\mawenjie\\AppData\\Local\\Temp\\cckn0wgB.o:simple_ml_ext.cpp:(.text$_ZN8pybind1112cpp_function10dispatcherEP7_objectS2_S2_[_ZN8pybind1112cpp_function10dispatcherEP7_objectS2_S2_]+0x994): undefined reference to `__imp_PyErr_SetString'\n",
      "C:\\Users\\mawenjie\\AppData\\Local\\Temp\\cckn0wgB.o:simple_ml_ext.cpp:(.text$_ZN8pybind1112cpp_function10dispatcherEP7_objectS2_S2_[_ZN8pybind1112cpp_function10dispatcherEP7_objectS2_S2_]+0x9b5): undefined reference to `__imp_PyTuple_New'\n",
      "C:\\Users\\mawenjie\\AppData\\Local\\Temp\\cckn0wgB.o:simple_ml_ext.cpp:(.text$_ZN8pybind1112cpp_function10dispatcherEP7_objectS2_S2_[_ZN8pybind1112cpp_function10dispatcherEP7_objectS2_S2_]+0xad2): undefined reference to `__imp_PyErr_Occurred'\n",
      "C:\\Users\\mawenjie\\AppData\\Local\\Temp\\cckn0wgB.o:simple_ml_ext.cpp:(.text$_ZN8pybind1112cpp_function10dispatcherEP7_objectS2_S2_[_ZN8pybind1112cpp_function10dispatcherEP7_objectS2_S2_]+0xb15): undefined reference to `__imp__Py_NoneStruct'\n",
      "C:\\Users\\mawenjie\\AppData\\Local\\Temp\\cckn0wgB.o:simple_ml_ext.cpp:(.text$_ZN8pybind1112cpp_function10dispatcherEP7_objectS2_S2_[_ZN8pybind1112cpp_function10dispatcherEP7_objectS2_S2_]+0xbd5): undefined reference to `__imp__Py_Dealloc'\n",
      "C:\\Users\\mawenjie\\AppData\\Local\\Temp\\cckn0wgB.o:simple_ml_ext.cpp:(.text$_ZN8pybind1112cpp_function10dispatcherEP7_objectS2_S2_[_ZN8pybind1112cpp_function10dispatcherEP7_objectS2_S2_]+0xd6a): undefined reference to `__imp_PyDict_New'\n",
      "C:\\Users\\mawenjie\\AppData\\Local\\Temp\\cckn0wgB.o:simple_ml_ext.cpp:(.text$_ZN8pybind1112cpp_function10dispatcherEP7_objectS2_S2_[_ZN8pybind1112cpp_function10dispatcherEP7_objectS2_S2_]+0x1130): undefined reference to `__imp_PyDict_Copy'\n",
      "C:\\Users\\mawenjie\\AppData\\Local\\Temp\\cckn0wgB.o:simple_ml_ext.cpp:(.text$_ZN8pybind1112cpp_function10dispatcherEP7_objectS2_S2_[_ZN8pybind1112cpp_function10dispatcherEP7_objectS2_S2_]+0x1188): undefined reference to `__imp_PyDict_DelItemString'\n",
      "C:\\Users\\mawenjie\\AppData\\Local\\Temp\\cckn0wgB.o:simple_ml_ext.cpp:(.text$_ZN8pybind1112cpp_function10dispatcherEP7_objectS2_S2_[_ZN8pybind1112cpp_function10dispatcherEP7_objectS2_S2_]+0x11b2): undefined reference to `__imp__Py_NoneStruct'\n",
      "C:\\Users\\mawenjie\\AppData\\Local\\Temp\\cckn0wgB.o:simple_ml_ext.cpp:(.text$_ZN8pybind1112cpp_function10dispatcherEP7_objectS2_S2_[_ZN8pybind1112cpp_function10dispatcherEP7_objectS2_S2_]+0x1363): undefined reference to `__imp__Py_NoneStruct'\n",
      "C:\\Users\\mawenjie\\AppData\\Local\\Temp\\cckn0wgB.o:simple_ml_ext.cpp:(.text$_ZN8pybind1112cpp_function10dispatcherEP7_objectS2_S2_[_ZN8pybind1112cpp_function10dispatcherEP7_objectS2_S2_]+0x1656): undefined reference to `__imp_PyType_IsSubtype'\n",
      "C:\\Users\\mawenjie\\AppData\\Local\\Temp\\cckn0wgB.o:simple_ml_ext.cpp:(.text$_ZN8pybind1112cpp_function10dispatcherEP7_objectS2_S2_[_ZN8pybind1112cpp_function10dispatcherEP7_objectS2_S2_]+0x170f): undefined reference to `__imp__Py_NoneStruct'\n",
      "C:\\Users\\mawenjie\\AppData\\Local\\Temp\\cckn0wgB.o:simple_ml_ext.cpp:(.text$_ZN8pybind1112cpp_function10dispatcherEP7_objectS2_S2_[_ZN8pybind1112cpp_function10dispatcherEP7_objectS2_S2_]+0x18cc): undefined reference to `__imp_PyTuple_SetItem'\n",
      "C:\\Users\\mawenjie\\AppData\\Local\\Temp\\cckn0wgB.o:simple_ml_ext.cpp:(.text$_ZN8pybind1112cpp_function10dispatcherEP7_objectS2_S2_[_ZN8pybind1112cpp_function10dispatcherEP7_objectS2_S2_]+0x1c5f): undefined reference to `__imp__Py_NotImplementedStruct'\n",
      "C:\\Users\\mawenjie\\AppData\\Local\\Temp\\cckn0wgB.o:simple_ml_ext.cpp:(.text$_ZN8pybind1112cpp_function10dispatcherEP7_objectS2_S2_[_ZN8pybind1112cpp_function10dispatcherEP7_objectS2_S2_]+0x1cb6): undefined reference to `__imp_PyTuple_Size'\n",
      "C:\\Users\\mawenjie\\AppData\\Local\\Temp\\cckn0wgB.o:simple_ml_ext.cpp:(.text$_ZN8pybind1112cpp_function10dispatcherEP7_objectS2_S2_[_ZN8pybind1112cpp_function10dispatcherEP7_objectS2_S2_]+0x1d20): undefined reference to `__imp_PyTuple_GetItem'\n",
      "C:\\Users\\mawenjie\\AppData\\Local\\Temp\\cckn0wgB.o:simple_ml_ext.cpp:(.text$_ZN8pybind1112cpp_function10dispatcherEP7_objectS2_S2_[_ZN8pybind1112cpp_function10dispatcherEP7_objectS2_S2_]+0x1d8a): undefined reference to `__imp_PyObject_Repr'\n",
      "C:\\Users\\mawenjie\\AppData\\Local\\Temp\\cckn0wgB.o:simple_ml_ext.cpp:(.text$_ZN8pybind1112cpp_function10dispatcherEP7_objectS2_S2_[_ZN8pybind1112cpp_function10dispatcherEP7_objectS2_S2_]+0x1e43): undefined reference to `__imp_PyDict_Size'\n",
      "C:\\Users\\mawenjie\\AppData\\Local\\Temp\\cckn0wgB.o:simple_ml_ext.cpp:(.text$_ZN8pybind1112cpp_function10dispatcherEP7_objectS2_S2_[_ZN8pybind1112cpp_function10dispatcherEP7_objectS2_S2_]+0x1e93): undefined reference to `__imp_PyDict_Next'\n",
      "C:\\Users\\mawenjie\\AppData\\Local\\Temp\\cckn0wgB.o:simple_ml_ext.cpp:(.text$_ZN8pybind1112cpp_function10dispatcherEP7_objectS2_S2_[_ZN8pybind1112cpp_function10dispatcherEP7_objectS2_S2_]+0x1ed0): undefined reference to `__imp_PyObject_CallObject'\n",
      "C:\\Users\\mawenjie\\AppData\\Local\\Temp\\cckn0wgB.o:simple_ml_ext.cpp:(.text$_ZN8pybind1112cpp_function10dispatcherEP7_objectS2_S2_[_ZN8pybind1112cpp_function10dispatcherEP7_objectS2_S2_]+0x1f65): undefined reference to `__imp_PyObject_Repr'\n",
      "C:\\Users\\mawenjie\\AppData\\Local\\Temp\\cckn0wgB.o:simple_ml_ext.cpp:(.text$_ZN8pybind1112cpp_function10dispatcherEP7_objectS2_S2_[_ZN8pybind1112cpp_function10dispatcherEP7_objectS2_S2_]+0x2061): undefined reference to `__imp_PyGILState_Check'\n",
      "C:\\Users\\mawenjie\\AppData\\Local\\Temp\\cckn0wgB.o:simple_ml_ext.cpp:(.text$_ZN8pybind1112cpp_function10dispatcherEP7_objectS2_S2_[_ZN8pybind1112cpp_function10dispatcherEP7_objectS2_S2_]+0x20cd): undefined reference to `__imp_PyObject_Str'\n",
      "C:\\Users\\mawenjie\\AppData\\Local\\Temp\\cckn0wgB.o:simple_ml_ext.cpp:(.text$_ZN8pybind1112cpp_function10dispatcherEP7_objectS2_S2_[_ZN8pybind1112cpp_function10dispatcherEP7_objectS2_S2_]+0x2158): undefined reference to `__imp_PyErr_Occurred'\n",
      "C:\\Users\\mawenjie\\AppData\\Local\\Temp\\cckn0wgB.o:simple_ml_ext.cpp:(.text$_ZN8pybind1112cpp_function10dispatcherEP7_objectS2_S2_[_ZN8pybind1112cpp_function10dispatcherEP7_objectS2_S2_]+0x215f): undefined reference to `__imp_PyExc_TypeError'\n",
      "C:\\Users\\mawenjie\\AppData\\Local\\Temp\\cckn0wgB.o:simple_ml_ext.cpp:(.text$_ZN8pybind1112cpp_function10dispatcherEP7_objectS2_S2_[_ZN8pybind1112cpp_function10dispatcherEP7_objectS2_S2_]+0x22a0): undefined reference to `__imp_PyThread_tss_get'\n",
      "C:\\Users\\mawenjie\\AppData\\Local\\Temp\\cckn0wgB.o:simple_ml_ext.cpp:(.text$_ZN8pybind1112cpp_function10dispatcherEP7_objectS2_S2_[_ZN8pybind1112cpp_function10dispatcherEP7_objectS2_S2_]+0x2324): undefined reference to `__imp_PyThread_tss_set'\n",
      "C:\\Users\\mawenjie\\AppData\\Local\\Temp\\cckn0wgB.o:simple_ml_ext.cpp:(.text$_ZN8pybind1112cpp_function10dispatcherEP7_objectS2_S2_[_ZN8pybind1112cpp_function10dispatcherEP7_objectS2_S2_]+0x23d8): undefined reference to `__imp_PyErr_Occurred'\n",
      "C:\\Users\\mawenjie\\AppData\\Local\\Temp\\cckn0wgB.o:simple_ml_ext.cpp:(.text$_ZN8pybind1112cpp_function10dispatcherEP7_objectS2_S2_[_ZN8pybind1112cpp_function10dispatcherEP7_objectS2_S2_]+0x23df): undefined reference to `__imp_PyExc_TypeError'\n",
      "C:\\Users\\mawenjie\\AppData\\Local\\Temp\\cckn0wgB.o:simple_ml_ext.cpp:(.text$_ZN8pybind1112cpp_function10dispatcherEP7_objectS2_S2_[_ZN8pybind1112cpp_function10dispatcherEP7_objectS2_S2_]+0x24c0): undefined reference to `__imp_PyErr_SetString'\n",
      "C:\\Users\\mawenjie\\AppData\\Local\\Temp\\cckn0wgB.o:simple_ml_ext.cpp:(.text$_ZN8pybind1112cpp_function10dispatcherEP7_objectS2_S2_[_ZN8pybind1112cpp_function10dispatcherEP7_objectS2_S2_]+0x24f2): undefined reference to `__imp_PyErr_SetString'\n",
      "C:\\Users\\mawenjie\\AppData\\Local\\Temp\\cckn0wgB.o:simple_ml_ext.cpp:(.text$_ZN8pybind1112cpp_function10dispatcherEP7_objectS2_S2_[_ZN8pybind1112cpp_function10dispatcherEP7_objectS2_S2_]+0x260d): undefined reference to `__imp_PyExc_SystemError'\n",
      "C:\\Users\\mawenjie\\AppData\\Local\\Temp\\cckn0wgB.o:simple_ml_ext.cpp:(.text$_ZN8pybind1112cpp_function10dispatcherEP7_objectS2_S2_[_ZN8pybind1112cpp_function10dispatcherEP7_objectS2_S2_]+0x261d): undefined reference to `__imp_PyErr_SetString'\n",
      "C:\\Users\\mawenjie\\AppData\\Local\\Temp\\cckn0wgB.o:simple_ml_ext.cpp:(.text$pybind11_object_new[pybind11_object_new]+0x11e): undefined reference to `__imp_PyMem_Calloc'\n",
      "C:\\Users\\mawenjie\\AppData\\Local\\Temp\\cckn0wgB.o:simple_ml_ext.cpp:(.text$pybind11_object_new[pybind11_object_new]+0x247): undefined reference to `__imp_PyWeakref_NewRef'\n",
      "C:\\Users\\mawenjie\\AppData\\Local\\Temp\\cckn0wgB.o:simple_ml_ext.cpp:(.text$pybind11_object_new[pybind11_object_new]+0x2a2): undefined reference to `__imp_PyErr_Occurred'\n",
      "C:\\Users\\mawenjie\\AppData\\Local\\Temp\\cckn0wgB.o:simple_ml_ext.cpp:(.text$_ZN8pybind116detail14clear_instanceEP7_object[_ZN8pybind116detail14clear_instanceEP7_object]+0x1ac): undefined reference to `__imp_PyMem_Free'\n",
      "C:\\Users\\mawenjie\\AppData\\Local\\Temp\\cckn0wgB.o:simple_ml_ext.cpp:(.text$_ZN8pybind116detail14clear_instanceEP7_object[_ZN8pybind116detail14clear_instanceEP7_object]+0x1bc): undefined reference to `__imp_PyObject_ClearWeakRefs'\n",
      "C:\\Users\\mawenjie\\AppData\\Local\\Temp\\cckn0wgB.o:simple_ml_ext.cpp:(.text$_ZN8pybind116detail14clear_instanceEP7_object[_ZN8pybind116detail14clear_instanceEP7_object]+0x1c5): undefined reference to `__imp__PyObject_GetDictPtr'\n",
      "C:\\Users\\mawenjie\\AppData\\Local\\Temp\\cckn0wgB.o:simple_ml_ext.cpp:(.text$_ZN8pybind116detail14clear_instanceEP7_object[_ZN8pybind116detail14clear_instanceEP7_object]+0x6cd): undefined reference to `__imp__Py_Dealloc'\n",
      "C:\\Users\\mawenjie\\AppData\\Local\\Temp\\cckn0wgB.o:simple_ml_ext.cpp:(.text$_ZN8pybind116detail14clear_instanceEP7_object[_ZN8pybind116detail14clear_instanceEP7_object]+0x823): undefined reference to `__imp_PyWeakref_NewRef'\n",
      "C:\\Users\\mawenjie\\AppData\\Local\\Temp\\cckn0wgB.o:simple_ml_ext.cpp:(.text$_ZN8pybind116detail14clear_instanceEP7_object[_ZN8pybind116detail14clear_instanceEP7_object]+0xaed): undefined reference to `__imp__Py_Dealloc'\n",
      "C:\\Users\\mawenjie\\AppData\\Local\\Temp\\cckn0wgB.o:simple_ml_ext.cpp:(.text$_ZN8pybind116detail14clear_instanceEP7_object[_ZN8pybind116detail14clear_instanceEP7_object]+0xd02): undefined reference to `__imp_PyErr_Occurred'\n",
      "C:\\Users\\mawenjie\\AppData\\Local\\Temp\\cckn0wgB.o:simple_ml_ext.cpp:(.text$pybind11_object_dealloc[pybind11_object_dealloc]+0x40): undefined reference to `__imp__Py_Dealloc'\n",
      "C:\\Users\\mawenjie\\AppData\\Local\\Temp\\cckn0wgB.o:simple_ml_ext.cpp:(.text$pybind11_object_dealloc[pybind11_object_dealloc]+0x46): undefined reference to `__imp_PyObject_GC_UnTrack'\n",
      "C:\\Users\\mawenjie\\AppData\\Local\\Temp\\cckn0wgB.o:simple_ml_ext.cpp:(.text$_ZN8pybind116detail11type_casterIivE4loadENS_6handleEb[_ZN8pybind116detail11type_casterIivE4loadENS_6handleEb]+0x1d): undefined reference to `__imp_PyFloat_Type'\n",
      "C:\\Users\\mawenjie\\AppData\\Local\\Temp\\cckn0wgB.o:simple_ml_ext.cpp:(.text$_ZN8pybind116detail11type_casterIivE4loadENS_6handleEb[_ZN8pybind116detail11type_casterIivE4loadENS_6handleEb]+0x28): undefined reference to `__imp_PyType_IsSubtype'\n",
      "C:\\Users\\mawenjie\\AppData\\Local\\Temp\\cckn0wgB.o:simple_ml_ext.cpp:(.text$_ZN8pybind116detail11type_casterIivE4loadENS_6handleEb[_ZN8pybind116detail11type_casterIivE4loadENS_6handleEb]+0x5a): undefined reference to `__imp_PyLong_AsLong'\n",
      "C:\\Users\\mawenjie\\AppData\\Local\\Temp\\cckn0wgB.o:simple_ml_ext.cpp:(.text$_ZN8pybind116detail11type_casterIivE4loadENS_6handleEb[_ZN8pybind116detail11type_casterIivE4loadENS_6handleEb]+0x92): undefined reference to `__imp_PyErr_Occurred'\n",
      "C:\\Users\\mawenjie\\AppData\\Local\\Temp\\cckn0wgB.o:simple_ml_ext.cpp:(.text$_ZN8pybind116detail11type_casterIivE4loadENS_6handleEb[_ZN8pybind116detail11type_casterIivE4loadENS_6handleEb]+0x9e): undefined reference to `__imp_PyErr_Clear'\n",
      "C:\\Users\\mawenjie\\AppData\\Local\\Temp\\cckn0wgB.o:simple_ml_ext.cpp:(.text$_ZN8pybind116detail11type_casterIivE4loadENS_6handleEb[_ZN8pybind116detail11type_casterIivE4loadENS_6handleEb]+0xae): undefined reference to `__imp_PyNumber_Check'\n",
      "C:\\Users\\mawenjie\\AppData\\Local\\Temp\\cckn0wgB.o:simple_ml_ext.cpp:(.text$_ZN8pybind116detail11type_casterIivE4loadENS_6handleEb[_ZN8pybind116detail11type_casterIivE4loadENS_6handleEb]+0xbb): undefined reference to `__imp_PyNumber_Long'\n",
      "C:\\Users\\mawenjie\\AppData\\Local\\Temp\\cckn0wgB.o:simple_ml_ext.cpp:(.text$_ZN8pybind116detail11type_casterIfvE4loadENS_6handleEb[_ZN8pybind116detail11type_casterIfvE4loadENS_6handleEb]+0x27): undefined reference to `__imp_PyFloat_Type'\n",
      "C:\\Users\\mawenjie\\AppData\\Local\\Temp\\cckn0wgB.o:simple_ml_ext.cpp:(.text$_ZN8pybind116detail11type_casterIfvE4loadENS_6handleEb[_ZN8pybind116detail11type_casterIfvE4loadENS_6handleEb]+0x32): undefined reference to `__imp_PyType_IsSubtype'\n",
      "C:\\Users\\mawenjie\\AppData\\Local\\Temp\\cckn0wgB.o:simple_ml_ext.cpp:(.text$_ZN8pybind116detail11type_casterIfvE4loadENS_6handleEb[_ZN8pybind116detail11type_casterIfvE4loadENS_6handleEb]+0x3f): undefined reference to `__imp_PyFloat_AsDouble'\n",
      "C:\\Users\\mawenjie\\AppData\\Local\\Temp\\cckn0wgB.o:simple_ml_ext.cpp:(.text$_ZN8pybind116detail11type_casterIfvE4loadENS_6handleEb[_ZN8pybind116detail11type_casterIfvE4loadENS_6handleEb]+0x76): undefined reference to `__imp_PyErr_Occurred'\n",
      "C:\\Users\\mawenjie\\AppData\\Local\\Temp\\cckn0wgB.o:simple_ml_ext.cpp:(.text$_ZN8pybind116detail11type_casterIfvE4loadENS_6handleEb[_ZN8pybind116detail11type_casterIfvE4loadENS_6handleEb]+0x82): undefined reference to `__imp_PyErr_Clear'\n",
      "C:\\Users\\mawenjie\\AppData\\Local\\Temp\\cckn0wgB.o:simple_ml_ext.cpp:(.text$_ZN8pybind116detail11type_casterIfvE4loadENS_6handleEb[_ZN8pybind116detail11type_casterIfvE4loadENS_6handleEb]+0xa7): undefined reference to `__imp_PyNumber_Check'\n",
      "C:\\Users\\mawenjie\\AppData\\Local\\Temp\\cckn0wgB.o:simple_ml_ext.cpp:(.text$_ZN8pybind116detail11type_casterIfvE4loadENS_6handleEb[_ZN8pybind116detail11type_casterIfvE4loadENS_6handleEb]+0xb4): undefined reference to `__imp_PyNumber_Float'\n",
      "collect2.exe: error: ld returned 1 exit status\n",
      "make: *** [default] ���� 1\n"
     ]
    }
   ],
   "source": [
    "!make"
   ]
  },
  {
   "cell_type": "code",
   "execution_count": 2,
   "metadata": {},
   "outputs": [
    {
     "name": "stdout",
     "output_type": "stream",
     "text": [
      "c++ -O3 -Wall -shared -std=c++11 -fPIC $(python3 -m pybind11 --includes) src/simple_ml_ext.cpp -o src/simple_ml_ext.so\n"
     ]
    },
    {
     "name": "stderr",
     "output_type": "stream",
     "text": [
      "c++: error: $(python3: No such file or directory\n",
      "c++: error: pybind11: No such file or directory\n",
      "c++: error: unrecognized command line option '-m'\n",
      "c++: error: unrecognized command line option '--includes)'; did you mean '--include'?\n",
      "make: *** [default] 错误 1\n"
     ]
    }
   ],
   "source": [
    "!make\n",
    "!python3 -m pytest -k \"softmax_regression_epoch_cpp\""
   ]
  },
  {
   "cell_type": "markdown",
   "metadata": {},
   "source": [
    "Note that unlike our code before, we had to actually compile the C++ extension in order to run an test it.  This will be needed whenever there are C++ components of your code, but in all such cases we will include Makefiles that should compile all the relevant functions and include the necessary libraries/headers.  And finally, let's also submit the results to mugrade."
   ]
  },
  {
   "cell_type": "code",
   "execution_count": null,
   "metadata": {},
   "outputs": [],
   "source": [
    "!python3 -m mugrade submit YOUR_GRADER_KEY_HERE -k \"softmax_regression_epoch_cpp\""
   ]
  },
  {
   "cell_type": "markdown",
   "metadata": {},
   "source": [
    "### Training a full softmax regression classifier with the C++ version\n",
    "\n",
    "Let's finally try training the whole softmax regression classifier using our \"direct memory acesss\" C++ version.  If the previous Python version took ~3 seconds, this should be blazing fast, right?"
   ]
  },
  {
   "cell_type": "code",
   "execution_count": 30,
   "metadata": {},
   "outputs": [
    {
     "name": "stdout",
     "output_type": "stream",
     "text": [
      "| Epoch | Train Loss | Train Err | Test Loss | Test Err |\n",
      "|     0 |    0.35134 |   0.10182 |   0.33588 |  0.09400 |\n",
      "|     1 |    0.32142 |   0.09268 |   0.31086 |  0.08730 |\n",
      "|     2 |    0.30802 |   0.08795 |   0.30097 |  0.08550 |\n",
      "|     3 |    0.29987 |   0.08532 |   0.29558 |  0.08370 |\n",
      "|     4 |    0.29415 |   0.08323 |   0.29215 |  0.08230 |\n",
      "|     5 |    0.28981 |   0.08182 |   0.28973 |  0.08090 |\n",
      "|     6 |    0.28633 |   0.08085 |   0.28793 |  0.08080 |\n",
      "|     7 |    0.28345 |   0.07997 |   0.28651 |  0.08040 |\n",
      "|     8 |    0.28100 |   0.07923 |   0.28537 |  0.08010 |\n",
      "|     9 |    0.27887 |   0.07847 |   0.28442 |  0.07970 |\n"
     ]
    }
   ],
   "source": [
    "import sys\n",
    "sys.path.append(\"src/\")\n",
    "\n",
    "# Reload the simple_ml module to include the newly-compiled C++ extension\n",
    "import importlib\n",
    "import simple_ml\n",
    "importlib.reload(simple_ml)\n",
    "\n",
    "from simple_ml import train_softmax, parse_mnist\n",
    "\n",
    "X_tr, y_tr = parse_mnist(\"data/train-images-idx3-ubyte.gz\", \n",
    "                         \"data/train-labels-idx1-ubyte.gz\")\n",
    "X_te, y_te = parse_mnist(\"data/t10k-images-idx3-ubyte.gz\",\n",
    "                         \"data/t10k-labels-idx1-ubyte.gz\")\n",
    "\n",
    "train_softmax(X_tr, y_tr, X_te, y_te, epochs=10, lr = 0.2, batch=100, cpp=True)"
   ]
  },
  {
   "cell_type": "markdown",
   "metadata": {},
   "source": [
    "As expected, the numbers match exactly our Python version, and the code is ... about 5 times slower?!  What is going on here?  Well, it turns out that the \"manual\" matrix multiplication code you probably wrote for the C++ version is extremely inefficient.  While Python itself is a slow, interpreted language, numpy itself is backed by matrix multiplications written in C (or, more likely, Fortran, believe it or not), that have been highly optmized to make use of vector operations, the cache hierarchy of different processors, and other features that are essential for efficient numerical operations.  We will cover these details much more in later lectures, and you'll even write a matrix library that can actually perform these operations relatively efficiently (at least for some special cases ... it's honestly not that easy to beat numpy in general).\n",
    "\n",
    "But for now, assuming your code recreates the Python behavior, you're done with the assignment, and can get ready for our next dive into automatic differentiation."
   ]
  }
 ],
 "metadata": {
  "kernelspec": {
   "display_name": "Python 3 (ipykernel)",
   "language": "python",
   "name": "python3"
  },
  "language_info": {
   "codemirror_mode": {
    "name": "ipython",
    "version": 3
   },
   "file_extension": ".py",
   "mimetype": "text/x-python",
   "name": "python",
   "nbconvert_exporter": "python",
   "pygments_lexer": "ipython3",
   "version": "3.8.16"
  },
  "vscode": {
   "interpreter": {
    "hash": "916dbcbb3f70747c44a77c7bcd40155683ae19c65e1c03b4aa3499c5328201f1"
   }
  }
 },
 "nbformat": 4,
 "nbformat_minor": 4
}
